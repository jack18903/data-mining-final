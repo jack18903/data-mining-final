{
  "nbformat": 4,
  "nbformat_minor": 0,
  "metadata": {
    "colab": {
      "provenance": []
    },
    "kernelspec": {
      "name": "python3",
      "display_name": "Python 3"
    },
    "language_info": {
      "name": "python"
    }
  },
  "cells": [
    {
      "cell_type": "code",
      "execution_count": 1,
      "metadata": {
        "colab": {
          "base_uri": "https://localhost:8080/"
        },
        "id": "Hy5eVBpEjgQn",
        "outputId": "51283fa7-d94f-4d59-f359-f106447faf43"
      },
      "outputs": [
        {
          "output_type": "stream",
          "name": "stdout",
          "text": [
            "Looking in indexes: https://pypi.org/simple, https://us-python.pkg.dev/colab-wheels/public/simple/\n",
            "Collecting tslearn\n",
            "  Downloading tslearn-0.5.2-cp38-cp38-manylinux_2_5_x86_64.manylinux1_x86_64.manylinux_2_12_x86_64.manylinux2010_x86_64.whl (875 kB)\n",
            "\u001b[K     |████████████████████████████████| 875 kB 5.3 MB/s \n",
            "\u001b[?25hRequirement already satisfied: numpy in /usr/local/lib/python3.8/dist-packages (from tslearn) (1.21.6)\n",
            "Requirement already satisfied: scikit-learn in /usr/local/lib/python3.8/dist-packages (from tslearn) (1.0.2)\n",
            "Requirement already satisfied: joblib in /usr/local/lib/python3.8/dist-packages (from tslearn) (1.2.0)\n",
            "Requirement already satisfied: numba in /usr/local/lib/python3.8/dist-packages (from tslearn) (0.56.4)\n",
            "Requirement already satisfied: Cython in /usr/local/lib/python3.8/dist-packages (from tslearn) (0.29.32)\n",
            "Requirement already satisfied: scipy in /usr/local/lib/python3.8/dist-packages (from tslearn) (1.7.3)\n",
            "Requirement already satisfied: setuptools in /usr/local/lib/python3.8/dist-packages (from numba->tslearn) (57.4.0)\n",
            "Requirement already satisfied: importlib-metadata in /usr/local/lib/python3.8/dist-packages (from numba->tslearn) (5.1.0)\n",
            "Requirement already satisfied: llvmlite<0.40,>=0.39.0dev0 in /usr/local/lib/python3.8/dist-packages (from numba->tslearn) (0.39.1)\n",
            "Requirement already satisfied: zipp>=0.5 in /usr/local/lib/python3.8/dist-packages (from importlib-metadata->numba->tslearn) (3.11.0)\n",
            "Requirement already satisfied: threadpoolctl>=2.0.0 in /usr/local/lib/python3.8/dist-packages (from scikit-learn->tslearn) (3.1.0)\n",
            "Installing collected packages: tslearn\n",
            "Successfully installed tslearn-0.5.2\n"
          ]
        }
      ],
      "source": [
        "!pip install tslearn"
      ]
    },
    {
      "cell_type": "code",
      "source": [
        "%matplotlib inline\n",
        "import os\n",
        "import numpy as np\n",
        "import pandas as pd\n",
        "import matplotlib.pyplot as plt"
      ],
      "metadata": {
        "id": "siDdjtomjnmc"
      },
      "execution_count": 2,
      "outputs": []
    },
    {
      "cell_type": "code",
      "source": [
        "df = pd.read_csv('/content/data.csv')\n",
        "df"
      ],
      "metadata": {
        "colab": {
          "base_uri": "https://localhost:8080/",
          "height": 424
        },
        "id": "T478noHGjqDM",
        "outputId": "b10b6e57-f529-44ce-847c-1be1c85d8315"
      },
      "execution_count": 4,
      "outputs": [
        {
          "output_type": "execute_result",
          "data": {
            "text/plain": [
              "           Date   A32    AAA    AAM   AAS   AAT  AAV  ABB   ABC   ABI  ...  \\\n",
              "0    2022-12-23  30.2   7.15  12.15   9.5  5.11  4.5  8.0   5.5  35.9  ...   \n",
              "1    2022-12-22  30.2   7.20  11.80   9.9  5.20  4.8  8.2   4.9  35.7  ...   \n",
              "2    2022-12-21  30.2   7.12  11.50   9.9  5.10  4.9  8.1   4.9  33.9  ...   \n",
              "3    2022-12-20  30.2   7.18  11.65  10.2  4.98  5.0  8.2   4.9  34.6  ...   \n",
              "4    2022-12-19  30.2   7.65  11.65  10.7  5.19  5.2  8.4   4.9  33.6  ...   \n",
              "..          ...   ...    ...    ...   ...   ...  ...  ...   ...   ...  ...   \n",
              "741  2020-01-08  24.5  12.00  12.50   NaN   NaN  8.4  NaN   9.7  30.0  ...   \n",
              "742  2020-01-07  24.5  12.40  12.50   NaN   NaN  8.5  NaN   9.8  30.0  ...   \n",
              "743  2020-01-06  24.5  12.30  12.50   NaN   NaN  8.4  NaN  10.6  30.0  ...   \n",
              "744  2020-01-03  24.5  12.70  12.50   NaN   NaN  8.4  NaN   9.7  30.0  ...   \n",
              "745  2020-01-02  28.0  12.75  11.95   NaN   NaN  8.6  NaN   9.7  31.0  ...   \n",
              "\n",
              "      BED   BEL    BFC   BGW   BHA  BHC   BHG   BHK    BHN  BHP  \n",
              "0    39.9  11.7  17.55  17.2  15.0  2.2  13.5  12.2  46.50  7.1  \n",
              "1    39.9  11.7  17.90  17.2  14.5  2.4  13.5  12.2  46.50  7.1  \n",
              "2    39.9  11.7  17.80  17.2  14.5  2.4  13.5  12.2  45.00  7.4  \n",
              "3    39.9  11.7  18.40  17.2  14.3  2.4  13.5  12.2  46.70  7.4  \n",
              "4    39.9  11.7  18.75  17.2  12.5  2.4  13.5  12.2  45.75  7.4  \n",
              "..    ...   ...    ...   ...   ...  ...   ...   ...    ...  ...  \n",
              "741  39.0  11.7  11.35  12.0   6.9  2.7  12.1  16.5  77.00  9.2  \n",
              "742  39.0  13.0  11.60  12.0   6.9  2.7  12.1  19.3  77.60  9.2  \n",
              "743  39.0  13.0  11.50  12.0   6.9  2.7  12.1  22.7  77.90  9.2  \n",
              "744  39.0  13.0  11.55  12.0   6.9  2.7  12.1  22.7  78.00  9.2  \n",
              "745  39.0  13.0  11.60  12.0   6.9  2.7  12.1  22.7  76.10  9.2  \n",
              "\n",
              "[746 rows x 101 columns]"
            ],
            "text/html": [
              "\n",
              "  <div id=\"df-4831bb46-8c2c-4f18-88b3-cc47045483a1\">\n",
              "    <div class=\"colab-df-container\">\n",
              "      <div>\n",
              "<style scoped>\n",
              "    .dataframe tbody tr th:only-of-type {\n",
              "        vertical-align: middle;\n",
              "    }\n",
              "\n",
              "    .dataframe tbody tr th {\n",
              "        vertical-align: top;\n",
              "    }\n",
              "\n",
              "    .dataframe thead th {\n",
              "        text-align: right;\n",
              "    }\n",
              "</style>\n",
              "<table border=\"1\" class=\"dataframe\">\n",
              "  <thead>\n",
              "    <tr style=\"text-align: right;\">\n",
              "      <th></th>\n",
              "      <th>Date</th>\n",
              "      <th>A32</th>\n",
              "      <th>AAA</th>\n",
              "      <th>AAM</th>\n",
              "      <th>AAS</th>\n",
              "      <th>AAT</th>\n",
              "      <th>AAV</th>\n",
              "      <th>ABB</th>\n",
              "      <th>ABC</th>\n",
              "      <th>ABI</th>\n",
              "      <th>...</th>\n",
              "      <th>BED</th>\n",
              "      <th>BEL</th>\n",
              "      <th>BFC</th>\n",
              "      <th>BGW</th>\n",
              "      <th>BHA</th>\n",
              "      <th>BHC</th>\n",
              "      <th>BHG</th>\n",
              "      <th>BHK</th>\n",
              "      <th>BHN</th>\n",
              "      <th>BHP</th>\n",
              "    </tr>\n",
              "  </thead>\n",
              "  <tbody>\n",
              "    <tr>\n",
              "      <th>0</th>\n",
              "      <td>2022-12-23</td>\n",
              "      <td>30.2</td>\n",
              "      <td>7.15</td>\n",
              "      <td>12.15</td>\n",
              "      <td>9.5</td>\n",
              "      <td>5.11</td>\n",
              "      <td>4.5</td>\n",
              "      <td>8.0</td>\n",
              "      <td>5.5</td>\n",
              "      <td>35.9</td>\n",
              "      <td>...</td>\n",
              "      <td>39.9</td>\n",
              "      <td>11.7</td>\n",
              "      <td>17.55</td>\n",
              "      <td>17.2</td>\n",
              "      <td>15.0</td>\n",
              "      <td>2.2</td>\n",
              "      <td>13.5</td>\n",
              "      <td>12.2</td>\n",
              "      <td>46.50</td>\n",
              "      <td>7.1</td>\n",
              "    </tr>\n",
              "    <tr>\n",
              "      <th>1</th>\n",
              "      <td>2022-12-22</td>\n",
              "      <td>30.2</td>\n",
              "      <td>7.20</td>\n",
              "      <td>11.80</td>\n",
              "      <td>9.9</td>\n",
              "      <td>5.20</td>\n",
              "      <td>4.8</td>\n",
              "      <td>8.2</td>\n",
              "      <td>4.9</td>\n",
              "      <td>35.7</td>\n",
              "      <td>...</td>\n",
              "      <td>39.9</td>\n",
              "      <td>11.7</td>\n",
              "      <td>17.90</td>\n",
              "      <td>17.2</td>\n",
              "      <td>14.5</td>\n",
              "      <td>2.4</td>\n",
              "      <td>13.5</td>\n",
              "      <td>12.2</td>\n",
              "      <td>46.50</td>\n",
              "      <td>7.1</td>\n",
              "    </tr>\n",
              "    <tr>\n",
              "      <th>2</th>\n",
              "      <td>2022-12-21</td>\n",
              "      <td>30.2</td>\n",
              "      <td>7.12</td>\n",
              "      <td>11.50</td>\n",
              "      <td>9.9</td>\n",
              "      <td>5.10</td>\n",
              "      <td>4.9</td>\n",
              "      <td>8.1</td>\n",
              "      <td>4.9</td>\n",
              "      <td>33.9</td>\n",
              "      <td>...</td>\n",
              "      <td>39.9</td>\n",
              "      <td>11.7</td>\n",
              "      <td>17.80</td>\n",
              "      <td>17.2</td>\n",
              "      <td>14.5</td>\n",
              "      <td>2.4</td>\n",
              "      <td>13.5</td>\n",
              "      <td>12.2</td>\n",
              "      <td>45.00</td>\n",
              "      <td>7.4</td>\n",
              "    </tr>\n",
              "    <tr>\n",
              "      <th>3</th>\n",
              "      <td>2022-12-20</td>\n",
              "      <td>30.2</td>\n",
              "      <td>7.18</td>\n",
              "      <td>11.65</td>\n",
              "      <td>10.2</td>\n",
              "      <td>4.98</td>\n",
              "      <td>5.0</td>\n",
              "      <td>8.2</td>\n",
              "      <td>4.9</td>\n",
              "      <td>34.6</td>\n",
              "      <td>...</td>\n",
              "      <td>39.9</td>\n",
              "      <td>11.7</td>\n",
              "      <td>18.40</td>\n",
              "      <td>17.2</td>\n",
              "      <td>14.3</td>\n",
              "      <td>2.4</td>\n",
              "      <td>13.5</td>\n",
              "      <td>12.2</td>\n",
              "      <td>46.70</td>\n",
              "      <td>7.4</td>\n",
              "    </tr>\n",
              "    <tr>\n",
              "      <th>4</th>\n",
              "      <td>2022-12-19</td>\n",
              "      <td>30.2</td>\n",
              "      <td>7.65</td>\n",
              "      <td>11.65</td>\n",
              "      <td>10.7</td>\n",
              "      <td>5.19</td>\n",
              "      <td>5.2</td>\n",
              "      <td>8.4</td>\n",
              "      <td>4.9</td>\n",
              "      <td>33.6</td>\n",
              "      <td>...</td>\n",
              "      <td>39.9</td>\n",
              "      <td>11.7</td>\n",
              "      <td>18.75</td>\n",
              "      <td>17.2</td>\n",
              "      <td>12.5</td>\n",
              "      <td>2.4</td>\n",
              "      <td>13.5</td>\n",
              "      <td>12.2</td>\n",
              "      <td>45.75</td>\n",
              "      <td>7.4</td>\n",
              "    </tr>\n",
              "    <tr>\n",
              "      <th>...</th>\n",
              "      <td>...</td>\n",
              "      <td>...</td>\n",
              "      <td>...</td>\n",
              "      <td>...</td>\n",
              "      <td>...</td>\n",
              "      <td>...</td>\n",
              "      <td>...</td>\n",
              "      <td>...</td>\n",
              "      <td>...</td>\n",
              "      <td>...</td>\n",
              "      <td>...</td>\n",
              "      <td>...</td>\n",
              "      <td>...</td>\n",
              "      <td>...</td>\n",
              "      <td>...</td>\n",
              "      <td>...</td>\n",
              "      <td>...</td>\n",
              "      <td>...</td>\n",
              "      <td>...</td>\n",
              "      <td>...</td>\n",
              "      <td>...</td>\n",
              "    </tr>\n",
              "    <tr>\n",
              "      <th>741</th>\n",
              "      <td>2020-01-08</td>\n",
              "      <td>24.5</td>\n",
              "      <td>12.00</td>\n",
              "      <td>12.50</td>\n",
              "      <td>NaN</td>\n",
              "      <td>NaN</td>\n",
              "      <td>8.4</td>\n",
              "      <td>NaN</td>\n",
              "      <td>9.7</td>\n",
              "      <td>30.0</td>\n",
              "      <td>...</td>\n",
              "      <td>39.0</td>\n",
              "      <td>11.7</td>\n",
              "      <td>11.35</td>\n",
              "      <td>12.0</td>\n",
              "      <td>6.9</td>\n",
              "      <td>2.7</td>\n",
              "      <td>12.1</td>\n",
              "      <td>16.5</td>\n",
              "      <td>77.00</td>\n",
              "      <td>9.2</td>\n",
              "    </tr>\n",
              "    <tr>\n",
              "      <th>742</th>\n",
              "      <td>2020-01-07</td>\n",
              "      <td>24.5</td>\n",
              "      <td>12.40</td>\n",
              "      <td>12.50</td>\n",
              "      <td>NaN</td>\n",
              "      <td>NaN</td>\n",
              "      <td>8.5</td>\n",
              "      <td>NaN</td>\n",
              "      <td>9.8</td>\n",
              "      <td>30.0</td>\n",
              "      <td>...</td>\n",
              "      <td>39.0</td>\n",
              "      <td>13.0</td>\n",
              "      <td>11.60</td>\n",
              "      <td>12.0</td>\n",
              "      <td>6.9</td>\n",
              "      <td>2.7</td>\n",
              "      <td>12.1</td>\n",
              "      <td>19.3</td>\n",
              "      <td>77.60</td>\n",
              "      <td>9.2</td>\n",
              "    </tr>\n",
              "    <tr>\n",
              "      <th>743</th>\n",
              "      <td>2020-01-06</td>\n",
              "      <td>24.5</td>\n",
              "      <td>12.30</td>\n",
              "      <td>12.50</td>\n",
              "      <td>NaN</td>\n",
              "      <td>NaN</td>\n",
              "      <td>8.4</td>\n",
              "      <td>NaN</td>\n",
              "      <td>10.6</td>\n",
              "      <td>30.0</td>\n",
              "      <td>...</td>\n",
              "      <td>39.0</td>\n",
              "      <td>13.0</td>\n",
              "      <td>11.50</td>\n",
              "      <td>12.0</td>\n",
              "      <td>6.9</td>\n",
              "      <td>2.7</td>\n",
              "      <td>12.1</td>\n",
              "      <td>22.7</td>\n",
              "      <td>77.90</td>\n",
              "      <td>9.2</td>\n",
              "    </tr>\n",
              "    <tr>\n",
              "      <th>744</th>\n",
              "      <td>2020-01-03</td>\n",
              "      <td>24.5</td>\n",
              "      <td>12.70</td>\n",
              "      <td>12.50</td>\n",
              "      <td>NaN</td>\n",
              "      <td>NaN</td>\n",
              "      <td>8.4</td>\n",
              "      <td>NaN</td>\n",
              "      <td>9.7</td>\n",
              "      <td>30.0</td>\n",
              "      <td>...</td>\n",
              "      <td>39.0</td>\n",
              "      <td>13.0</td>\n",
              "      <td>11.55</td>\n",
              "      <td>12.0</td>\n",
              "      <td>6.9</td>\n",
              "      <td>2.7</td>\n",
              "      <td>12.1</td>\n",
              "      <td>22.7</td>\n",
              "      <td>78.00</td>\n",
              "      <td>9.2</td>\n",
              "    </tr>\n",
              "    <tr>\n",
              "      <th>745</th>\n",
              "      <td>2020-01-02</td>\n",
              "      <td>28.0</td>\n",
              "      <td>12.75</td>\n",
              "      <td>11.95</td>\n",
              "      <td>NaN</td>\n",
              "      <td>NaN</td>\n",
              "      <td>8.6</td>\n",
              "      <td>NaN</td>\n",
              "      <td>9.7</td>\n",
              "      <td>31.0</td>\n",
              "      <td>...</td>\n",
              "      <td>39.0</td>\n",
              "      <td>13.0</td>\n",
              "      <td>11.60</td>\n",
              "      <td>12.0</td>\n",
              "      <td>6.9</td>\n",
              "      <td>2.7</td>\n",
              "      <td>12.1</td>\n",
              "      <td>22.7</td>\n",
              "      <td>76.10</td>\n",
              "      <td>9.2</td>\n",
              "    </tr>\n",
              "  </tbody>\n",
              "</table>\n",
              "<p>746 rows × 101 columns</p>\n",
              "</div>\n",
              "      <button class=\"colab-df-convert\" onclick=\"convertToInteractive('df-4831bb46-8c2c-4f18-88b3-cc47045483a1')\"\n",
              "              title=\"Convert this dataframe to an interactive table.\"\n",
              "              style=\"display:none;\">\n",
              "        \n",
              "  <svg xmlns=\"http://www.w3.org/2000/svg\" height=\"24px\"viewBox=\"0 0 24 24\"\n",
              "       width=\"24px\">\n",
              "    <path d=\"M0 0h24v24H0V0z\" fill=\"none\"/>\n",
              "    <path d=\"M18.56 5.44l.94 2.06.94-2.06 2.06-.94-2.06-.94-.94-2.06-.94 2.06-2.06.94zm-11 1L8.5 8.5l.94-2.06 2.06-.94-2.06-.94L8.5 2.5l-.94 2.06-2.06.94zm10 10l.94 2.06.94-2.06 2.06-.94-2.06-.94-.94-2.06-.94 2.06-2.06.94z\"/><path d=\"M17.41 7.96l-1.37-1.37c-.4-.4-.92-.59-1.43-.59-.52 0-1.04.2-1.43.59L10.3 9.45l-7.72 7.72c-.78.78-.78 2.05 0 2.83L4 21.41c.39.39.9.59 1.41.59.51 0 1.02-.2 1.41-.59l7.78-7.78 2.81-2.81c.8-.78.8-2.07 0-2.86zM5.41 20L4 18.59l7.72-7.72 1.47 1.35L5.41 20z\"/>\n",
              "  </svg>\n",
              "      </button>\n",
              "      \n",
              "  <style>\n",
              "    .colab-df-container {\n",
              "      display:flex;\n",
              "      flex-wrap:wrap;\n",
              "      gap: 12px;\n",
              "    }\n",
              "\n",
              "    .colab-df-convert {\n",
              "      background-color: #E8F0FE;\n",
              "      border: none;\n",
              "      border-radius: 50%;\n",
              "      cursor: pointer;\n",
              "      display: none;\n",
              "      fill: #1967D2;\n",
              "      height: 32px;\n",
              "      padding: 0 0 0 0;\n",
              "      width: 32px;\n",
              "    }\n",
              "\n",
              "    .colab-df-convert:hover {\n",
              "      background-color: #E2EBFA;\n",
              "      box-shadow: 0px 1px 2px rgba(60, 64, 67, 0.3), 0px 1px 3px 1px rgba(60, 64, 67, 0.15);\n",
              "      fill: #174EA6;\n",
              "    }\n",
              "\n",
              "    [theme=dark] .colab-df-convert {\n",
              "      background-color: #3B4455;\n",
              "      fill: #D2E3FC;\n",
              "    }\n",
              "\n",
              "    [theme=dark] .colab-df-convert:hover {\n",
              "      background-color: #434B5C;\n",
              "      box-shadow: 0px 1px 3px 1px rgba(0, 0, 0, 0.15);\n",
              "      filter: drop-shadow(0px 1px 2px rgba(0, 0, 0, 0.3));\n",
              "      fill: #FFFFFF;\n",
              "    }\n",
              "  </style>\n",
              "\n",
              "      <script>\n",
              "        const buttonEl =\n",
              "          document.querySelector('#df-4831bb46-8c2c-4f18-88b3-cc47045483a1 button.colab-df-convert');\n",
              "        buttonEl.style.display =\n",
              "          google.colab.kernel.accessAllowed ? 'block' : 'none';\n",
              "\n",
              "        async function convertToInteractive(key) {\n",
              "          const element = document.querySelector('#df-4831bb46-8c2c-4f18-88b3-cc47045483a1');\n",
              "          const dataTable =\n",
              "            await google.colab.kernel.invokeFunction('convertToInteractive',\n",
              "                                                     [key], {});\n",
              "          if (!dataTable) return;\n",
              "\n",
              "          const docLinkHtml = 'Like what you see? Visit the ' +\n",
              "            '<a target=\"_blank\" href=https://colab.research.google.com/notebooks/data_table.ipynb>data table notebook</a>'\n",
              "            + ' to learn more about interactive tables.';\n",
              "          element.innerHTML = '';\n",
              "          dataTable['output_type'] = 'display_data';\n",
              "          await google.colab.output.renderOutput(dataTable, element);\n",
              "          const docLink = document.createElement('div');\n",
              "          docLink.innerHTML = docLinkHtml;\n",
              "          element.appendChild(docLink);\n",
              "        }\n",
              "      </script>\n",
              "    </div>\n",
              "  </div>\n",
              "  "
            ]
          },
          "metadata": {},
          "execution_count": 4
        }
      ]
    },
    {
      "cell_type": "code",
      "source": [
        "df = df.fillna(method='ffill')"
      ],
      "metadata": {
        "id": "nGc4efNijsFd"
      },
      "execution_count": 5,
      "outputs": []
    },
    {
      "cell_type": "code",
      "source": [
        "df.isna().sum().sum()"
      ],
      "metadata": {
        "colab": {
          "base_uri": "https://localhost:8080/"
        },
        "id": "XEwDgASgj4N2",
        "outputId": "262d8f68-c587-4ab7-e538-1a56887460c2"
      },
      "execution_count": 6,
      "outputs": [
        {
          "output_type": "execute_result",
          "data": {
            "text/plain": [
              "0"
            ]
          },
          "metadata": {},
          "execution_count": 6
        }
      ]
    },
    {
      "cell_type": "code",
      "source": [
        "dataset = df.iloc[:,1:]\n",
        "dataset"
      ],
      "metadata": {
        "colab": {
          "base_uri": "https://localhost:8080/",
          "height": 424
        },
        "id": "PLakTPQPj68L",
        "outputId": "de0f4819-5714-4922-fcec-d81b9b24711c"
      },
      "execution_count": 7,
      "outputs": [
        {
          "output_type": "execute_result",
          "data": {
            "text/plain": [
              "      A32    AAA    AAM   AAS    AAT  AAV   ABB   ABC   ABI    ABR  ...   BED  \\\n",
              "0    30.2   7.15  12.15   9.5   5.11  4.5   8.0   5.5  35.9   9.33  ...  39.9   \n",
              "1    30.2   7.20  11.80   9.9   5.20  4.8   8.2   4.9  35.7   9.33  ...  39.9   \n",
              "2    30.2   7.12  11.50   9.9   5.10  4.9   8.1   4.9  33.9   9.33  ...  39.9   \n",
              "3    30.2   7.18  11.65  10.2   4.98  5.0   8.2   4.9  34.6   9.33  ...  39.9   \n",
              "4    30.2   7.65  11.65  10.7   5.19  5.2   8.4   4.9  33.6   8.72  ...  39.9   \n",
              "..    ...    ...    ...   ...    ...  ...   ...   ...   ...    ...  ...   ...   \n",
              "741  24.5  12.00  12.50  17.5  12.70  8.4  13.4   9.7  30.0  12.10  ...  39.0   \n",
              "742  24.5  12.40  12.50  17.5  12.70  8.5  13.4   9.8  30.0  12.10  ...  39.0   \n",
              "743  24.5  12.30  12.50  17.5  12.70  8.4  13.4  10.6  30.0  12.10  ...  39.0   \n",
              "744  24.5  12.70  12.50  17.5  12.70  8.4  13.4   9.7  30.0  12.10  ...  39.0   \n",
              "745  28.0  12.75  11.95  17.5  12.70  8.6  13.4   9.7  31.0  12.10  ...  39.0   \n",
              "\n",
              "      BEL    BFC   BGW   BHA  BHC   BHG   BHK    BHN  BHP  \n",
              "0    11.7  17.55  17.2  15.0  2.2  13.5  12.2  46.50  7.1  \n",
              "1    11.7  17.90  17.2  14.5  2.4  13.5  12.2  46.50  7.1  \n",
              "2    11.7  17.80  17.2  14.5  2.4  13.5  12.2  45.00  7.4  \n",
              "3    11.7  18.40  17.2  14.3  2.4  13.5  12.2  46.70  7.4  \n",
              "4    11.7  18.75  17.2  12.5  2.4  13.5  12.2  45.75  7.4  \n",
              "..    ...    ...   ...   ...  ...   ...   ...    ...  ...  \n",
              "741  11.7  11.35  12.0   6.9  2.7  12.1  16.5  77.00  9.2  \n",
              "742  13.0  11.60  12.0   6.9  2.7  12.1  19.3  77.60  9.2  \n",
              "743  13.0  11.50  12.0   6.9  2.7  12.1  22.7  77.90  9.2  \n",
              "744  13.0  11.55  12.0   6.9  2.7  12.1  22.7  78.00  9.2  \n",
              "745  13.0  11.60  12.0   6.9  2.7  12.1  22.7  76.10  9.2  \n",
              "\n",
              "[746 rows x 100 columns]"
            ],
            "text/html": [
              "\n",
              "  <div id=\"df-3e15f640-62ad-41a7-a1a9-ad97855a934a\">\n",
              "    <div class=\"colab-df-container\">\n",
              "      <div>\n",
              "<style scoped>\n",
              "    .dataframe tbody tr th:only-of-type {\n",
              "        vertical-align: middle;\n",
              "    }\n",
              "\n",
              "    .dataframe tbody tr th {\n",
              "        vertical-align: top;\n",
              "    }\n",
              "\n",
              "    .dataframe thead th {\n",
              "        text-align: right;\n",
              "    }\n",
              "</style>\n",
              "<table border=\"1\" class=\"dataframe\">\n",
              "  <thead>\n",
              "    <tr style=\"text-align: right;\">\n",
              "      <th></th>\n",
              "      <th>A32</th>\n",
              "      <th>AAA</th>\n",
              "      <th>AAM</th>\n",
              "      <th>AAS</th>\n",
              "      <th>AAT</th>\n",
              "      <th>AAV</th>\n",
              "      <th>ABB</th>\n",
              "      <th>ABC</th>\n",
              "      <th>ABI</th>\n",
              "      <th>ABR</th>\n",
              "      <th>...</th>\n",
              "      <th>BED</th>\n",
              "      <th>BEL</th>\n",
              "      <th>BFC</th>\n",
              "      <th>BGW</th>\n",
              "      <th>BHA</th>\n",
              "      <th>BHC</th>\n",
              "      <th>BHG</th>\n",
              "      <th>BHK</th>\n",
              "      <th>BHN</th>\n",
              "      <th>BHP</th>\n",
              "    </tr>\n",
              "  </thead>\n",
              "  <tbody>\n",
              "    <tr>\n",
              "      <th>0</th>\n",
              "      <td>30.2</td>\n",
              "      <td>7.15</td>\n",
              "      <td>12.15</td>\n",
              "      <td>9.5</td>\n",
              "      <td>5.11</td>\n",
              "      <td>4.5</td>\n",
              "      <td>8.0</td>\n",
              "      <td>5.5</td>\n",
              "      <td>35.9</td>\n",
              "      <td>9.33</td>\n",
              "      <td>...</td>\n",
              "      <td>39.9</td>\n",
              "      <td>11.7</td>\n",
              "      <td>17.55</td>\n",
              "      <td>17.2</td>\n",
              "      <td>15.0</td>\n",
              "      <td>2.2</td>\n",
              "      <td>13.5</td>\n",
              "      <td>12.2</td>\n",
              "      <td>46.50</td>\n",
              "      <td>7.1</td>\n",
              "    </tr>\n",
              "    <tr>\n",
              "      <th>1</th>\n",
              "      <td>30.2</td>\n",
              "      <td>7.20</td>\n",
              "      <td>11.80</td>\n",
              "      <td>9.9</td>\n",
              "      <td>5.20</td>\n",
              "      <td>4.8</td>\n",
              "      <td>8.2</td>\n",
              "      <td>4.9</td>\n",
              "      <td>35.7</td>\n",
              "      <td>9.33</td>\n",
              "      <td>...</td>\n",
              "      <td>39.9</td>\n",
              "      <td>11.7</td>\n",
              "      <td>17.90</td>\n",
              "      <td>17.2</td>\n",
              "      <td>14.5</td>\n",
              "      <td>2.4</td>\n",
              "      <td>13.5</td>\n",
              "      <td>12.2</td>\n",
              "      <td>46.50</td>\n",
              "      <td>7.1</td>\n",
              "    </tr>\n",
              "    <tr>\n",
              "      <th>2</th>\n",
              "      <td>30.2</td>\n",
              "      <td>7.12</td>\n",
              "      <td>11.50</td>\n",
              "      <td>9.9</td>\n",
              "      <td>5.10</td>\n",
              "      <td>4.9</td>\n",
              "      <td>8.1</td>\n",
              "      <td>4.9</td>\n",
              "      <td>33.9</td>\n",
              "      <td>9.33</td>\n",
              "      <td>...</td>\n",
              "      <td>39.9</td>\n",
              "      <td>11.7</td>\n",
              "      <td>17.80</td>\n",
              "      <td>17.2</td>\n",
              "      <td>14.5</td>\n",
              "      <td>2.4</td>\n",
              "      <td>13.5</td>\n",
              "      <td>12.2</td>\n",
              "      <td>45.00</td>\n",
              "      <td>7.4</td>\n",
              "    </tr>\n",
              "    <tr>\n",
              "      <th>3</th>\n",
              "      <td>30.2</td>\n",
              "      <td>7.18</td>\n",
              "      <td>11.65</td>\n",
              "      <td>10.2</td>\n",
              "      <td>4.98</td>\n",
              "      <td>5.0</td>\n",
              "      <td>8.2</td>\n",
              "      <td>4.9</td>\n",
              "      <td>34.6</td>\n",
              "      <td>9.33</td>\n",
              "      <td>...</td>\n",
              "      <td>39.9</td>\n",
              "      <td>11.7</td>\n",
              "      <td>18.40</td>\n",
              "      <td>17.2</td>\n",
              "      <td>14.3</td>\n",
              "      <td>2.4</td>\n",
              "      <td>13.5</td>\n",
              "      <td>12.2</td>\n",
              "      <td>46.70</td>\n",
              "      <td>7.4</td>\n",
              "    </tr>\n",
              "    <tr>\n",
              "      <th>4</th>\n",
              "      <td>30.2</td>\n",
              "      <td>7.65</td>\n",
              "      <td>11.65</td>\n",
              "      <td>10.7</td>\n",
              "      <td>5.19</td>\n",
              "      <td>5.2</td>\n",
              "      <td>8.4</td>\n",
              "      <td>4.9</td>\n",
              "      <td>33.6</td>\n",
              "      <td>8.72</td>\n",
              "      <td>...</td>\n",
              "      <td>39.9</td>\n",
              "      <td>11.7</td>\n",
              "      <td>18.75</td>\n",
              "      <td>17.2</td>\n",
              "      <td>12.5</td>\n",
              "      <td>2.4</td>\n",
              "      <td>13.5</td>\n",
              "      <td>12.2</td>\n",
              "      <td>45.75</td>\n",
              "      <td>7.4</td>\n",
              "    </tr>\n",
              "    <tr>\n",
              "      <th>...</th>\n",
              "      <td>...</td>\n",
              "      <td>...</td>\n",
              "      <td>...</td>\n",
              "      <td>...</td>\n",
              "      <td>...</td>\n",
              "      <td>...</td>\n",
              "      <td>...</td>\n",
              "      <td>...</td>\n",
              "      <td>...</td>\n",
              "      <td>...</td>\n",
              "      <td>...</td>\n",
              "      <td>...</td>\n",
              "      <td>...</td>\n",
              "      <td>...</td>\n",
              "      <td>...</td>\n",
              "      <td>...</td>\n",
              "      <td>...</td>\n",
              "      <td>...</td>\n",
              "      <td>...</td>\n",
              "      <td>...</td>\n",
              "      <td>...</td>\n",
              "    </tr>\n",
              "    <tr>\n",
              "      <th>741</th>\n",
              "      <td>24.5</td>\n",
              "      <td>12.00</td>\n",
              "      <td>12.50</td>\n",
              "      <td>17.5</td>\n",
              "      <td>12.70</td>\n",
              "      <td>8.4</td>\n",
              "      <td>13.4</td>\n",
              "      <td>9.7</td>\n",
              "      <td>30.0</td>\n",
              "      <td>12.10</td>\n",
              "      <td>...</td>\n",
              "      <td>39.0</td>\n",
              "      <td>11.7</td>\n",
              "      <td>11.35</td>\n",
              "      <td>12.0</td>\n",
              "      <td>6.9</td>\n",
              "      <td>2.7</td>\n",
              "      <td>12.1</td>\n",
              "      <td>16.5</td>\n",
              "      <td>77.00</td>\n",
              "      <td>9.2</td>\n",
              "    </tr>\n",
              "    <tr>\n",
              "      <th>742</th>\n",
              "      <td>24.5</td>\n",
              "      <td>12.40</td>\n",
              "      <td>12.50</td>\n",
              "      <td>17.5</td>\n",
              "      <td>12.70</td>\n",
              "      <td>8.5</td>\n",
              "      <td>13.4</td>\n",
              "      <td>9.8</td>\n",
              "      <td>30.0</td>\n",
              "      <td>12.10</td>\n",
              "      <td>...</td>\n",
              "      <td>39.0</td>\n",
              "      <td>13.0</td>\n",
              "      <td>11.60</td>\n",
              "      <td>12.0</td>\n",
              "      <td>6.9</td>\n",
              "      <td>2.7</td>\n",
              "      <td>12.1</td>\n",
              "      <td>19.3</td>\n",
              "      <td>77.60</td>\n",
              "      <td>9.2</td>\n",
              "    </tr>\n",
              "    <tr>\n",
              "      <th>743</th>\n",
              "      <td>24.5</td>\n",
              "      <td>12.30</td>\n",
              "      <td>12.50</td>\n",
              "      <td>17.5</td>\n",
              "      <td>12.70</td>\n",
              "      <td>8.4</td>\n",
              "      <td>13.4</td>\n",
              "      <td>10.6</td>\n",
              "      <td>30.0</td>\n",
              "      <td>12.10</td>\n",
              "      <td>...</td>\n",
              "      <td>39.0</td>\n",
              "      <td>13.0</td>\n",
              "      <td>11.50</td>\n",
              "      <td>12.0</td>\n",
              "      <td>6.9</td>\n",
              "      <td>2.7</td>\n",
              "      <td>12.1</td>\n",
              "      <td>22.7</td>\n",
              "      <td>77.90</td>\n",
              "      <td>9.2</td>\n",
              "    </tr>\n",
              "    <tr>\n",
              "      <th>744</th>\n",
              "      <td>24.5</td>\n",
              "      <td>12.70</td>\n",
              "      <td>12.50</td>\n",
              "      <td>17.5</td>\n",
              "      <td>12.70</td>\n",
              "      <td>8.4</td>\n",
              "      <td>13.4</td>\n",
              "      <td>9.7</td>\n",
              "      <td>30.0</td>\n",
              "      <td>12.10</td>\n",
              "      <td>...</td>\n",
              "      <td>39.0</td>\n",
              "      <td>13.0</td>\n",
              "      <td>11.55</td>\n",
              "      <td>12.0</td>\n",
              "      <td>6.9</td>\n",
              "      <td>2.7</td>\n",
              "      <td>12.1</td>\n",
              "      <td>22.7</td>\n",
              "      <td>78.00</td>\n",
              "      <td>9.2</td>\n",
              "    </tr>\n",
              "    <tr>\n",
              "      <th>745</th>\n",
              "      <td>28.0</td>\n",
              "      <td>12.75</td>\n",
              "      <td>11.95</td>\n",
              "      <td>17.5</td>\n",
              "      <td>12.70</td>\n",
              "      <td>8.6</td>\n",
              "      <td>13.4</td>\n",
              "      <td>9.7</td>\n",
              "      <td>31.0</td>\n",
              "      <td>12.10</td>\n",
              "      <td>...</td>\n",
              "      <td>39.0</td>\n",
              "      <td>13.0</td>\n",
              "      <td>11.60</td>\n",
              "      <td>12.0</td>\n",
              "      <td>6.9</td>\n",
              "      <td>2.7</td>\n",
              "      <td>12.1</td>\n",
              "      <td>22.7</td>\n",
              "      <td>76.10</td>\n",
              "      <td>9.2</td>\n",
              "    </tr>\n",
              "  </tbody>\n",
              "</table>\n",
              "<p>746 rows × 100 columns</p>\n",
              "</div>\n",
              "      <button class=\"colab-df-convert\" onclick=\"convertToInteractive('df-3e15f640-62ad-41a7-a1a9-ad97855a934a')\"\n",
              "              title=\"Convert this dataframe to an interactive table.\"\n",
              "              style=\"display:none;\">\n",
              "        \n",
              "  <svg xmlns=\"http://www.w3.org/2000/svg\" height=\"24px\"viewBox=\"0 0 24 24\"\n",
              "       width=\"24px\">\n",
              "    <path d=\"M0 0h24v24H0V0z\" fill=\"none\"/>\n",
              "    <path d=\"M18.56 5.44l.94 2.06.94-2.06 2.06-.94-2.06-.94-.94-2.06-.94 2.06-2.06.94zm-11 1L8.5 8.5l.94-2.06 2.06-.94-2.06-.94L8.5 2.5l-.94 2.06-2.06.94zm10 10l.94 2.06.94-2.06 2.06-.94-2.06-.94-.94-2.06-.94 2.06-2.06.94z\"/><path d=\"M17.41 7.96l-1.37-1.37c-.4-.4-.92-.59-1.43-.59-.52 0-1.04.2-1.43.59L10.3 9.45l-7.72 7.72c-.78.78-.78 2.05 0 2.83L4 21.41c.39.39.9.59 1.41.59.51 0 1.02-.2 1.41-.59l7.78-7.78 2.81-2.81c.8-.78.8-2.07 0-2.86zM5.41 20L4 18.59l7.72-7.72 1.47 1.35L5.41 20z\"/>\n",
              "  </svg>\n",
              "      </button>\n",
              "      \n",
              "  <style>\n",
              "    .colab-df-container {\n",
              "      display:flex;\n",
              "      flex-wrap:wrap;\n",
              "      gap: 12px;\n",
              "    }\n",
              "\n",
              "    .colab-df-convert {\n",
              "      background-color: #E8F0FE;\n",
              "      border: none;\n",
              "      border-radius: 50%;\n",
              "      cursor: pointer;\n",
              "      display: none;\n",
              "      fill: #1967D2;\n",
              "      height: 32px;\n",
              "      padding: 0 0 0 0;\n",
              "      width: 32px;\n",
              "    }\n",
              "\n",
              "    .colab-df-convert:hover {\n",
              "      background-color: #E2EBFA;\n",
              "      box-shadow: 0px 1px 2px rgba(60, 64, 67, 0.3), 0px 1px 3px 1px rgba(60, 64, 67, 0.15);\n",
              "      fill: #174EA6;\n",
              "    }\n",
              "\n",
              "    [theme=dark] .colab-df-convert {\n",
              "      background-color: #3B4455;\n",
              "      fill: #D2E3FC;\n",
              "    }\n",
              "\n",
              "    [theme=dark] .colab-df-convert:hover {\n",
              "      background-color: #434B5C;\n",
              "      box-shadow: 0px 1px 3px 1px rgba(0, 0, 0, 0.15);\n",
              "      filter: drop-shadow(0px 1px 2px rgba(0, 0, 0, 0.3));\n",
              "      fill: #FFFFFF;\n",
              "    }\n",
              "  </style>\n",
              "\n",
              "      <script>\n",
              "        const buttonEl =\n",
              "          document.querySelector('#df-3e15f640-62ad-41a7-a1a9-ad97855a934a button.colab-df-convert');\n",
              "        buttonEl.style.display =\n",
              "          google.colab.kernel.accessAllowed ? 'block' : 'none';\n",
              "\n",
              "        async function convertToInteractive(key) {\n",
              "          const element = document.querySelector('#df-3e15f640-62ad-41a7-a1a9-ad97855a934a');\n",
              "          const dataTable =\n",
              "            await google.colab.kernel.invokeFunction('convertToInteractive',\n",
              "                                                     [key], {});\n",
              "          if (!dataTable) return;\n",
              "\n",
              "          const docLinkHtml = 'Like what you see? Visit the ' +\n",
              "            '<a target=\"_blank\" href=https://colab.research.google.com/notebooks/data_table.ipynb>data table notebook</a>'\n",
              "            + ' to learn more about interactive tables.';\n",
              "          element.innerHTML = '';\n",
              "          dataTable['output_type'] = 'display_data';\n",
              "          await google.colab.output.renderOutput(dataTable, element);\n",
              "          const docLink = document.createElement('div');\n",
              "          docLink.innerHTML = docLinkHtml;\n",
              "          element.appendChild(docLink);\n",
              "        }\n",
              "      </script>\n",
              "    </div>\n",
              "  </div>\n",
              "  "
            ]
          },
          "metadata": {},
          "execution_count": 7
        }
      ]
    },
    {
      "cell_type": "code",
      "source": [
        "from tslearn.clustering import TimeSeriesKMeans\n",
        "from tslearn.preprocessing import TimeSeriesScalerMeanVariance\n",
        "\n",
        "data_normalized = TimeSeriesScalerMeanVariance(mu=0., std=1.).fit_transform(dataset)\n",
        "print(data_normalized)"
      ],
      "metadata": {
        "colab": {
          "base_uri": "https://localhost:8080/"
        },
        "id": "uNUWyYqQkGPP",
        "outputId": "171a0d85-7bc3-4adb-8c58-095b1526c8fa"
      },
      "execution_count": 8,
      "outputs": [
        {
          "output_type": "stream",
          "name": "stdout",
          "text": [
            "[[[ 0.75260444]\n",
            "  [-0.58291008]\n",
            "  [-0.29321062]\n",
            "  ...\n",
            "  [-0.29031363]\n",
            "  [ 1.69702469]\n",
            "  [-0.58580708]]\n",
            "\n",
            " [[ 0.76552484]\n",
            "  [-0.58226111]\n",
            "  [-0.31270392]\n",
            "  ...\n",
            "  [-0.28926416]\n",
            "  [ 1.72069487]\n",
            "  [-0.58812105]]\n",
            "\n",
            " [[ 0.78037105]\n",
            "  [-0.59090033]\n",
            "  [-0.33066772]\n",
            "  ...\n",
            "  [-0.28907803]\n",
            "  [ 1.65969586]\n",
            "  [-0.57426445]]\n",
            "\n",
            " ...\n",
            "\n",
            " [[ 0.26921117]\n",
            "  [-0.32569831]\n",
            "  [-0.31594569]\n",
            "  ...\n",
            "  [ 0.18143764]\n",
            "  [ 2.87315919]\n",
            "  [-0.47686383]]\n",
            "\n",
            " [[ 0.27109093]\n",
            "  [-0.30749266]\n",
            "  [-0.31729916]\n",
            "  ...\n",
            "  [ 0.18283241]\n",
            "  [ 2.89433006]\n",
            "  [-0.47910643]]\n",
            "\n",
            " [[ 0.43955738]\n",
            "  [-0.30865671]\n",
            "  [-0.34790729]\n",
            "  ...\n",
            "  [ 0.17952232]\n",
            "  [ 2.79949821]\n",
            "  [-0.48283114]]]\n"
          ]
        }
      ]
    },
    {
      "cell_type": "code",
      "source": [
        "sz = data_normalized.shape[1]\n",
        "print(sz)"
      ],
      "metadata": {
        "colab": {
          "base_uri": "https://localhost:8080/"
        },
        "id": "58svNczelP3N",
        "outputId": "2a93f2d9-a1ab-4c9f-a27e-eebf159f6240"
      },
      "execution_count": 11,
      "outputs": [
        {
          "output_type": "stream",
          "name": "stdout",
          "text": [
            "100\n"
          ]
        }
      ]
    },
    {
      "cell_type": "code",
      "source": [
        "EKM_inertias = []\n",
        "K = range(1,10)\n",
        "for k in K:\n",
        "  kmeanModel = TimeSeriesKMeans(n_clusters=k, verbose=True, random_state=0)\n",
        "  y_pre = kmeanModel.fit_predict(data_normalized)\n",
        "  EKM_inertias.append(kmeanModel.inertia_)\n",
        "plt.figure(figsize = (16,8))\n",
        "plt.plot(K, EKM_inertias,'bx-')\n",
        "plt.xlabel('k')\n",
        "plt.ylabel('intertias')\n",
        "plt.title('Euclidean k-means')\n",
        "plt.show()"
      ],
      "metadata": {
        "colab": {
          "base_uri": "https://localhost:8080/",
          "height": 669
        },
        "id": "f9bLWnzEmhKY",
        "outputId": "eedaf8ac-992e-4191-f0ec-45cb6100b904"
      },
      "execution_count": 12,
      "outputs": [
        {
          "output_type": "stream",
          "name": "stdout",
          "text": [
            "38.558 --> 14.241 --> 14.241 --> \n",
            "15.478 --> 8.044 --> 8.034 --> 7.966 --> 7.827 --> 7.620 --> 7.546 --> 7.542 --> 7.542 --> 7.542 --> \n",
            "11.353 --> 5.292 --> 5.280 --> 5.280 --> \n",
            "8.256 --> 3.875 --> 3.838 --> 3.829 --> 3.826 --> 3.825 --> 3.825 --> 3.825 --> 3.825 --> \n",
            "6.121 --> 3.029 --> 3.014 --> 3.011 --> 3.004 --> 3.003 --> 3.002 --> 3.002 --> 3.002 --> \n",
            "5.656 --> 2.939 --> 2.923 --> 2.920 --> 2.913 --> 2.905 --> 2.846 --> 2.786 --> 2.785 --> 2.785 --> \n",
            "4.790 --> 2.525 --> 2.508 --> 2.507 --> 2.507 --> 2.500 --> 2.441 --> 2.381 --> 2.381 --> 2.381 --> \n",
            "3.115 --> 2.020 --> 2.014 --> 2.013 --> 2.013 --> 2.012 --> 1.997 --> 1.909 --> 1.887 --> 1.887 --> 1.887 --> \n",
            "2.992 --> 1.868 --> 1.833 --> 1.797 --> 1.768 --> 1.765 --> 1.750 --> 1.662 --> 1.640 --> 1.640 --> 1.640 --> \n"
          ]
        },
        {
          "output_type": "display_data",
          "data": {
            "text/plain": [
              "<Figure size 1152x576 with 1 Axes>"
            ],
            "image/png": "[encoded data removed]"
          },
          "metadata": {
            "needs_background": "light"
          }
        }
      ]
    },
    {
      "cell_type": "code",
      "source": [
        "print(\"Euclidean k-means\")\n",
        "km = TimeSeriesKMeans(n_clusters=3, verbose=True, random_state=0)\n",
        "y_pred = km.fit_predict(data_normalized)\n",
        "\n",
        "plt.figure(figsize= (20,10))\n",
        "for yi in range(3):\n",
        "    plt.subplot(3, 3, yi + 1)\n",
        "    for xx in data_normalized[y_pred == yi]:\n",
        "        plt.plot(xx.ravel(), \"k-\", alpha=.2)\n",
        "    plt.plot(km.cluster_centers_[yi].ravel(), \"r-\")\n",
        "    plt.xlim(0, sz)\n",
        "    plt.ylim(-4, 8)\n",
        "    plt.text(0.55, 0.85,'Cluster %d' % (yi + 1),\n",
        "             transform=plt.gca().transAxes)\n",
        "    if yi == 1:\n",
        "        plt.title(\"Euclidean $k$-means\")"
      ],
      "metadata": {
        "colab": {
          "base_uri": "https://localhost:8080/",
          "height": 243
        },
        "id": "_fmoNKW6mzq4",
        "outputId": "a6c62c1f-cdc0-49a9-e987-0341047c8eb8"
      },
      "execution_count": 35,
      "outputs": [
        {
          "output_type": "stream",
          "name": "stdout",
          "text": [
            "Euclidean k-means\n",
            "11.353 --> 5.292 --> 5.280 --> 5.280 --> \n"
          ]
        },
        {
          "output_type": "display_data",
          "data": {
            "text/plain": [
              "<Figure size 1440x720 with 3 Axes>"
            ],
            "image/png": "[encoded data removed]"
          },
          "metadata": {
            "needs_background": "light"
          }
        }
      ]
    },
    {
      "cell_type": "code",
      "source": [
        "EKM_inertias = []\n",
        "K = range(1,10)\n",
        "for k in K:\n",
        "  kmeanModel = TimeSeriesKMeans(n_clusters=k, metric=\"dtw\", verbose=True, random_state=0)\n",
        "  y_pre = kmeanModel.fit_predict(data_normalized)\n",
        "  EKM_inertias.append(kmeanModel.inertia_)\n",
        "plt.figure(figsize = (16,8))\n",
        "plt.plot(K, EKM_inertias,'bx-')\n",
        "plt.xlabel('k')\n",
        "plt.ylabel('inertias')\n",
        "plt.title('DBA_km')\n",
        "plt.show()"
      ],
      "metadata": {
        "colab": {
          "base_uri": "https://localhost:8080/",
          "height": 1000
        },
        "id": "QYp_5oGPrA7K",
        "outputId": "5d9ff0be-ea7c-4191-a35a-ce64c63871ce"
      },
      "execution_count": 25,
      "outputs": [
        {
          "output_type": "stream",
          "name": "stderr",
          "text": [
            "[Parallel(n_jobs=1)]: Using backend SequentialBackend with 1 concurrent workers.\n",
            "[Parallel(n_jobs=1)]: Done 746 out of 746 | elapsed:    1.7s finished\n",
            "[Parallel(n_jobs=1)]: Using backend SequentialBackend with 1 concurrent workers.\n",
            "[Parallel(n_jobs=1)]: Done 746 out of 746 | elapsed:    0.1s finished\n"
          ]
        },
        {
          "output_type": "stream",
          "name": "stdout",
          "text": [
            "23.203 --> "
          ]
        },
        {
          "output_type": "stream",
          "name": "stderr",
          "text": [
            "[Parallel(n_jobs=1)]: Using backend SequentialBackend with 1 concurrent workers.\n",
            "[Parallel(n_jobs=1)]: Done 746 out of 746 | elapsed:    0.1s finished\n"
          ]
        },
        {
          "output_type": "stream",
          "name": "stdout",
          "text": [
            "11.935 --> "
          ]
        },
        {
          "output_type": "stream",
          "name": "stderr",
          "text": [
            "[Parallel(n_jobs=1)]: Using backend SequentialBackend with 1 concurrent workers.\n",
            "[Parallel(n_jobs=1)]: Done 746 out of 746 | elapsed:    0.1s finished\n"
          ]
        },
        {
          "output_type": "stream",
          "name": "stdout",
          "text": [
            "11.935 --> "
          ]
        },
        {
          "output_type": "stream",
          "name": "stderr",
          "text": [
            "[Parallel(n_jobs=1)]: Using backend SequentialBackend with 1 concurrent workers.\n",
            "[Parallel(n_jobs=1)]: Done 746 out of 746 | elapsed:    0.1s finished\n"
          ]
        },
        {
          "output_type": "stream",
          "name": "stdout",
          "text": [
            "11.935 --> "
          ]
        },
        {
          "output_type": "stream",
          "name": "stderr",
          "text": [
            "[Parallel(n_jobs=1)]: Using backend SequentialBackend with 1 concurrent workers.\n",
            "[Parallel(n_jobs=1)]: Done 746 out of 746 | elapsed:    0.1s finished\n"
          ]
        },
        {
          "output_type": "stream",
          "name": "stdout",
          "text": [
            "11.935 --> \n"
          ]
        },
        {
          "output_type": "stream",
          "name": "stderr",
          "text": [
            "[Parallel(n_jobs=1)]: Using backend SequentialBackend with 1 concurrent workers.\n",
            "[Parallel(n_jobs=1)]: Done 746 out of 746 | elapsed:    0.1s finished\n",
            "[Parallel(n_jobs=1)]: Using backend SequentialBackend with 1 concurrent workers.\n",
            "[Parallel(n_jobs=1)]: Done 746 out of 746 | elapsed:    0.1s finished\n",
            "[Parallel(n_jobs=1)]: Using backend SequentialBackend with 1 concurrent workers.\n",
            "[Parallel(n_jobs=1)]: Done 1492 out of 1492 | elapsed:    0.2s finished\n",
            "[Parallel(n_jobs=1)]: Using backend SequentialBackend with 1 concurrent workers.\n",
            "[Parallel(n_jobs=1)]: Done 1492 out of 1492 | elapsed:    0.3s finished\n"
          ]
        },
        {
          "output_type": "stream",
          "name": "stdout",
          "text": [
            "11.952 --> "
          ]
        },
        {
          "output_type": "stream",
          "name": "stderr",
          "text": [
            "[Parallel(n_jobs=1)]: Using backend SequentialBackend with 1 concurrent workers.\n",
            "[Parallel(n_jobs=1)]: Done 1492 out of 1492 | elapsed:    0.3s finished\n"
          ]
        },
        {
          "output_type": "stream",
          "name": "stdout",
          "text": [
            "7.288 --> "
          ]
        },
        {
          "output_type": "stream",
          "name": "stderr",
          "text": [
            "[Parallel(n_jobs=1)]: Using backend SequentialBackend with 1 concurrent workers.\n",
            "[Parallel(n_jobs=1)]: Done 1492 out of 1492 | elapsed:    0.3s finished\n"
          ]
        },
        {
          "output_type": "stream",
          "name": "stdout",
          "text": [
            "7.120 --> "
          ]
        },
        {
          "output_type": "stream",
          "name": "stderr",
          "text": [
            "[Parallel(n_jobs=1)]: Using backend SequentialBackend with 1 concurrent workers.\n",
            "[Parallel(n_jobs=1)]: Done 1492 out of 1492 | elapsed:    0.3s finished\n"
          ]
        },
        {
          "output_type": "stream",
          "name": "stdout",
          "text": [
            "7.011 --> "
          ]
        },
        {
          "output_type": "stream",
          "name": "stderr",
          "text": [
            "[Parallel(n_jobs=1)]: Using backend SequentialBackend with 1 concurrent workers.\n",
            "[Parallel(n_jobs=1)]: Done 1492 out of 1492 | elapsed:    0.3s finished\n"
          ]
        },
        {
          "output_type": "stream",
          "name": "stdout",
          "text": [
            "6.906 --> "
          ]
        },
        {
          "output_type": "stream",
          "name": "stderr",
          "text": [
            "[Parallel(n_jobs=1)]: Using backend SequentialBackend with 1 concurrent workers.\n",
            "[Parallel(n_jobs=1)]: Done 1492 out of 1492 | elapsed:    0.3s finished\n"
          ]
        },
        {
          "output_type": "stream",
          "name": "stdout",
          "text": [
            "6.905 --> "
          ]
        },
        {
          "output_type": "stream",
          "name": "stderr",
          "text": [
            "[Parallel(n_jobs=1)]: Using backend SequentialBackend with 1 concurrent workers.\n",
            "[Parallel(n_jobs=1)]: Done 1492 out of 1492 | elapsed:    0.3s finished\n"
          ]
        },
        {
          "output_type": "stream",
          "name": "stdout",
          "text": [
            "6.905 --> "
          ]
        },
        {
          "output_type": "stream",
          "name": "stderr",
          "text": [
            "[Parallel(n_jobs=1)]: Using backend SequentialBackend with 1 concurrent workers.\n",
            "[Parallel(n_jobs=1)]: Done 1492 out of 1492 | elapsed:    0.3s finished\n"
          ]
        },
        {
          "output_type": "stream",
          "name": "stdout",
          "text": [
            "6.905 --> \n"
          ]
        },
        {
          "output_type": "stream",
          "name": "stderr",
          "text": [
            "[Parallel(n_jobs=1)]: Using backend SequentialBackend with 1 concurrent workers.\n",
            "[Parallel(n_jobs=1)]: Done 1492 out of 1492 | elapsed:    0.3s finished\n",
            "[Parallel(n_jobs=1)]: Using backend SequentialBackend with 1 concurrent workers.\n",
            "[Parallel(n_jobs=1)]: Done 746 out of 746 | elapsed:    0.1s finished\n",
            "[Parallel(n_jobs=1)]: Using backend SequentialBackend with 1 concurrent workers.\n",
            "[Parallel(n_jobs=1)]: Done 2238 out of 2238 | elapsed:    0.4s finished\n",
            "[Parallel(n_jobs=1)]: Using backend SequentialBackend with 1 concurrent workers.\n",
            "[Parallel(n_jobs=1)]: Done 2238 out of 2238 | elapsed:    0.3s finished\n",
            "[Parallel(n_jobs=1)]: Using backend SequentialBackend with 1 concurrent workers.\n",
            "[Parallel(n_jobs=1)]: Done 2238 out of 2238 | elapsed:    0.4s finished\n"
          ]
        },
        {
          "output_type": "stream",
          "name": "stdout",
          "text": [
            "8.123 --> "
          ]
        },
        {
          "output_type": "stream",
          "name": "stderr",
          "text": [
            "[Parallel(n_jobs=1)]: Using backend SequentialBackend with 1 concurrent workers.\n",
            "[Parallel(n_jobs=1)]: Done 2238 out of 2238 | elapsed:    0.4s finished\n"
          ]
        },
        {
          "output_type": "stream",
          "name": "stdout",
          "text": [
            "4.696 --> "
          ]
        },
        {
          "output_type": "stream",
          "name": "stderr",
          "text": [
            "[Parallel(n_jobs=1)]: Using backend SequentialBackend with 1 concurrent workers.\n",
            "[Parallel(n_jobs=1)]: Done 2238 out of 2238 | elapsed:    0.4s finished\n"
          ]
        },
        {
          "output_type": "stream",
          "name": "stdout",
          "text": [
            "4.645 --> "
          ]
        },
        {
          "output_type": "stream",
          "name": "stderr",
          "text": [
            "[Parallel(n_jobs=1)]: Using backend SequentialBackend with 1 concurrent workers.\n",
            "[Parallel(n_jobs=1)]: Done 2238 out of 2238 | elapsed:    0.4s finished\n"
          ]
        },
        {
          "output_type": "stream",
          "name": "stdout",
          "text": [
            "4.637 --> "
          ]
        },
        {
          "output_type": "stream",
          "name": "stderr",
          "text": [
            "[Parallel(n_jobs=1)]: Using backend SequentialBackend with 1 concurrent workers.\n",
            "[Parallel(n_jobs=1)]: Done 2238 out of 2238 | elapsed:    0.4s finished\n"
          ]
        },
        {
          "output_type": "stream",
          "name": "stdout",
          "text": [
            "4.635 --> "
          ]
        },
        {
          "output_type": "stream",
          "name": "stderr",
          "text": [
            "[Parallel(n_jobs=1)]: Using backend SequentialBackend with 1 concurrent workers.\n",
            "[Parallel(n_jobs=1)]: Done 2238 out of 2238 | elapsed:    0.4s finished\n"
          ]
        },
        {
          "output_type": "stream",
          "name": "stdout",
          "text": [
            "4.635 --> "
          ]
        },
        {
          "output_type": "stream",
          "name": "stderr",
          "text": [
            "[Parallel(n_jobs=1)]: Using backend SequentialBackend with 1 concurrent workers.\n",
            "[Parallel(n_jobs=1)]: Done 2238 out of 2238 | elapsed:    0.4s finished\n"
          ]
        },
        {
          "output_type": "stream",
          "name": "stdout",
          "text": [
            "4.635 --> "
          ]
        },
        {
          "output_type": "stream",
          "name": "stderr",
          "text": [
            "[Parallel(n_jobs=1)]: Using backend SequentialBackend with 1 concurrent workers.\n",
            "[Parallel(n_jobs=1)]: Done 2238 out of 2238 | elapsed:    0.4s finished\n"
          ]
        },
        {
          "output_type": "stream",
          "name": "stdout",
          "text": [
            "4.635 --> \n"
          ]
        },
        {
          "output_type": "stream",
          "name": "stderr",
          "text": [
            "[Parallel(n_jobs=1)]: Using backend SequentialBackend with 1 concurrent workers.\n",
            "[Parallel(n_jobs=1)]: Done 2238 out of 2238 | elapsed:    0.4s finished\n",
            "[Parallel(n_jobs=1)]: Using backend SequentialBackend with 1 concurrent workers.\n",
            "[Parallel(n_jobs=1)]: Done 746 out of 746 | elapsed:    0.1s finished\n",
            "[Parallel(n_jobs=1)]: Using backend SequentialBackend with 1 concurrent workers.\n",
            "[Parallel(n_jobs=1)]: Done 2238 out of 2238 | elapsed:    0.4s finished\n",
            "[Parallel(n_jobs=1)]: Using backend SequentialBackend with 1 concurrent workers.\n",
            "[Parallel(n_jobs=1)]: Done 2238 out of 2238 | elapsed:    0.4s finished\n",
            "[Parallel(n_jobs=1)]: Using backend SequentialBackend with 1 concurrent workers.\n",
            "[Parallel(n_jobs=1)]: Done 2238 out of 2238 | elapsed:    0.4s finished\n",
            "[Parallel(n_jobs=1)]: Using backend SequentialBackend with 1 concurrent workers.\n",
            "[Parallel(n_jobs=1)]: Done 2984 out of 2984 | elapsed:    0.5s finished\n"
          ]
        },
        {
          "output_type": "stream",
          "name": "stdout",
          "text": [
            "7.296 --> "
          ]
        },
        {
          "output_type": "stream",
          "name": "stderr",
          "text": [
            "[Parallel(n_jobs=1)]: Using backend SequentialBackend with 1 concurrent workers.\n",
            "[Parallel(n_jobs=1)]: Done 2984 out of 2984 | elapsed:    0.5s finished\n"
          ]
        },
        {
          "output_type": "stream",
          "name": "stdout",
          "text": [
            "4.179 --> "
          ]
        },
        {
          "output_type": "stream",
          "name": "stderr",
          "text": [
            "[Parallel(n_jobs=1)]: Using backend SequentialBackend with 1 concurrent workers.\n",
            "[Parallel(n_jobs=1)]: Done 2984 out of 2984 | elapsed:    0.5s finished\n"
          ]
        },
        {
          "output_type": "stream",
          "name": "stdout",
          "text": [
            "4.152 --> "
          ]
        },
        {
          "output_type": "stream",
          "name": "stderr",
          "text": [
            "[Parallel(n_jobs=1)]: Using backend SequentialBackend with 1 concurrent workers.\n",
            "[Parallel(n_jobs=1)]: Done 2984 out of 2984 | elapsed:    0.5s finished\n"
          ]
        },
        {
          "output_type": "stream",
          "name": "stdout",
          "text": [
            "4.136 --> "
          ]
        },
        {
          "output_type": "stream",
          "name": "stderr",
          "text": [
            "[Parallel(n_jobs=1)]: Using backend SequentialBackend with 1 concurrent workers.\n",
            "[Parallel(n_jobs=1)]: Done 2984 out of 2984 | elapsed:    0.5s finished\n"
          ]
        },
        {
          "output_type": "stream",
          "name": "stdout",
          "text": [
            "4.102 --> "
          ]
        },
        {
          "output_type": "stream",
          "name": "stderr",
          "text": [
            "[Parallel(n_jobs=1)]: Using backend SequentialBackend with 1 concurrent workers.\n",
            "[Parallel(n_jobs=1)]: Done 2984 out of 2984 | elapsed:    0.5s finished\n"
          ]
        },
        {
          "output_type": "stream",
          "name": "stdout",
          "text": [
            "4.072 --> "
          ]
        },
        {
          "output_type": "stream",
          "name": "stderr",
          "text": [
            "[Parallel(n_jobs=1)]: Using backend SequentialBackend with 1 concurrent workers.\n",
            "[Parallel(n_jobs=1)]: Done 2984 out of 2984 | elapsed:    0.7s finished\n"
          ]
        },
        {
          "output_type": "stream",
          "name": "stdout",
          "text": [
            "4.066 --> "
          ]
        },
        {
          "output_type": "stream",
          "name": "stderr",
          "text": [
            "[Parallel(n_jobs=1)]: Using backend SequentialBackend with 1 concurrent workers.\n",
            "[Parallel(n_jobs=1)]: Done 2984 out of 2984 | elapsed:    0.5s finished\n"
          ]
        },
        {
          "output_type": "stream",
          "name": "stdout",
          "text": [
            "4.065 --> "
          ]
        },
        {
          "output_type": "stream",
          "name": "stderr",
          "text": [
            "[Parallel(n_jobs=1)]: Using backend SequentialBackend with 1 concurrent workers.\n",
            "[Parallel(n_jobs=1)]: Done 2984 out of 2984 | elapsed:    0.5s finished\n"
          ]
        },
        {
          "output_type": "stream",
          "name": "stdout",
          "text": [
            "4.065 --> \n"
          ]
        },
        {
          "output_type": "stream",
          "name": "stderr",
          "text": [
            "[Parallel(n_jobs=1)]: Using backend SequentialBackend with 1 concurrent workers.\n",
            "[Parallel(n_jobs=1)]: Done 2984 out of 2984 | elapsed:    0.5s finished\n",
            "[Parallel(n_jobs=1)]: Using backend SequentialBackend with 1 concurrent workers.\n",
            "[Parallel(n_jobs=1)]: Done 746 out of 746 | elapsed:    0.1s finished\n",
            "[Parallel(n_jobs=1)]: Using backend SequentialBackend with 1 concurrent workers.\n",
            "[Parallel(n_jobs=1)]: Done 2238 out of 2238 | elapsed:    0.4s finished\n",
            "[Parallel(n_jobs=1)]: Using backend SequentialBackend with 1 concurrent workers.\n",
            "[Parallel(n_jobs=1)]: Done 2238 out of 2238 | elapsed:    0.4s finished\n",
            "[Parallel(n_jobs=1)]: Using backend SequentialBackend with 1 concurrent workers.\n",
            "[Parallel(n_jobs=1)]: Done 2238 out of 2238 | elapsed:    0.4s finished\n",
            "[Parallel(n_jobs=1)]: Using backend SequentialBackend with 1 concurrent workers.\n",
            "[Parallel(n_jobs=1)]: Done 2238 out of 2238 | elapsed:    0.4s finished\n",
            "[Parallel(n_jobs=1)]: Using backend SequentialBackend with 1 concurrent workers.\n",
            "[Parallel(n_jobs=1)]: Done 3730 out of 3730 | elapsed:    0.6s finished\n"
          ]
        },
        {
          "output_type": "stream",
          "name": "stdout",
          "text": [
            "5.113 --> "
          ]
        },
        {
          "output_type": "stream",
          "name": "stderr",
          "text": [
            "[Parallel(n_jobs=1)]: Using backend SequentialBackend with 1 concurrent workers.\n",
            "[Parallel(n_jobs=1)]: Done 3730 out of 3730 | elapsed:    2.9s finished\n"
          ]
        },
        {
          "output_type": "stream",
          "name": "stdout",
          "text": [
            "3.131 --> "
          ]
        },
        {
          "output_type": "stream",
          "name": "stderr",
          "text": [
            "[Parallel(n_jobs=1)]: Using backend SequentialBackend with 1 concurrent workers.\n",
            "[Parallel(n_jobs=1)]: Done 3730 out of 3730 | elapsed:    1.0s finished\n"
          ]
        },
        {
          "output_type": "stream",
          "name": "stdout",
          "text": [
            "3.042 --> "
          ]
        },
        {
          "output_type": "stream",
          "name": "stderr",
          "text": [
            "[Parallel(n_jobs=1)]: Using backend SequentialBackend with 1 concurrent workers.\n",
            "[Parallel(n_jobs=1)]: Done 3730 out of 3730 | elapsed:    0.6s finished\n"
          ]
        },
        {
          "output_type": "stream",
          "name": "stdout",
          "text": [
            "3.031 --> "
          ]
        },
        {
          "output_type": "stream",
          "name": "stderr",
          "text": [
            "[Parallel(n_jobs=1)]: Using backend SequentialBackend with 1 concurrent workers.\n",
            "[Parallel(n_jobs=1)]: Done 3730 out of 3730 | elapsed:    0.6s finished\n"
          ]
        },
        {
          "output_type": "stream",
          "name": "stdout",
          "text": [
            "3.031 --> "
          ]
        },
        {
          "output_type": "stream",
          "name": "stderr",
          "text": [
            "[Parallel(n_jobs=1)]: Using backend SequentialBackend with 1 concurrent workers.\n",
            "[Parallel(n_jobs=1)]: Done 3730 out of 3730 | elapsed:    0.8s finished\n"
          ]
        },
        {
          "output_type": "stream",
          "name": "stdout",
          "text": [
            "3.031 --> \n"
          ]
        },
        {
          "output_type": "stream",
          "name": "stderr",
          "text": [
            "[Parallel(n_jobs=1)]: Using backend SequentialBackend with 1 concurrent workers.\n",
            "[Parallel(n_jobs=1)]: Done 3730 out of 3730 | elapsed:    0.6s finished\n",
            "[Parallel(n_jobs=1)]: Using backend SequentialBackend with 1 concurrent workers.\n",
            "[Parallel(n_jobs=1)]: Done 746 out of 746 | elapsed:    0.1s finished\n",
            "[Parallel(n_jobs=1)]: Using backend SequentialBackend with 1 concurrent workers.\n",
            "[Parallel(n_jobs=1)]: Done 2238 out of 2238 | elapsed:    0.4s finished\n",
            "[Parallel(n_jobs=1)]: Using backend SequentialBackend with 1 concurrent workers.\n",
            "[Parallel(n_jobs=1)]: Done 2238 out of 2238 | elapsed:    0.4s finished\n",
            "[Parallel(n_jobs=1)]: Using backend SequentialBackend with 1 concurrent workers.\n",
            "[Parallel(n_jobs=1)]: Done 2238 out of 2238 | elapsed:    0.4s finished\n",
            "[Parallel(n_jobs=1)]: Using backend SequentialBackend with 1 concurrent workers.\n",
            "[Parallel(n_jobs=1)]: Done 2238 out of 2238 | elapsed:    0.4s finished\n",
            "[Parallel(n_jobs=1)]: Using backend SequentialBackend with 1 concurrent workers.\n",
            "[Parallel(n_jobs=1)]: Done 2238 out of 2238 | elapsed:    0.4s finished\n",
            "[Parallel(n_jobs=1)]: Using backend SequentialBackend with 1 concurrent workers.\n",
            "[Parallel(n_jobs=1)]: Done 4476 out of 4476 | elapsed:    0.8s finished\n"
          ]
        },
        {
          "output_type": "stream",
          "name": "stdout",
          "text": [
            "4.724 --> "
          ]
        },
        {
          "output_type": "stream",
          "name": "stderr",
          "text": [
            "[Parallel(n_jobs=1)]: Using backend SequentialBackend with 1 concurrent workers.\n",
            "[Parallel(n_jobs=1)]: Done 4476 out of 4476 | elapsed:    0.7s finished\n"
          ]
        },
        {
          "output_type": "stream",
          "name": "stdout",
          "text": [
            "2.671 --> "
          ]
        },
        {
          "output_type": "stream",
          "name": "stderr",
          "text": [
            "[Parallel(n_jobs=1)]: Using backend SequentialBackend with 1 concurrent workers.\n",
            "[Parallel(n_jobs=1)]: Done 4476 out of 4476 | elapsed:    0.8s finished\n"
          ]
        },
        {
          "output_type": "stream",
          "name": "stdout",
          "text": [
            "2.551 --> "
          ]
        },
        {
          "output_type": "stream",
          "name": "stderr",
          "text": [
            "[Parallel(n_jobs=1)]: Using backend SequentialBackend with 1 concurrent workers.\n",
            "[Parallel(n_jobs=1)]: Done 4476 out of 4476 | elapsed:    0.8s finished\n"
          ]
        },
        {
          "output_type": "stream",
          "name": "stdout",
          "text": [
            "2.538 --> "
          ]
        },
        {
          "output_type": "stream",
          "name": "stderr",
          "text": [
            "[Parallel(n_jobs=1)]: Using backend SequentialBackend with 1 concurrent workers.\n",
            "[Parallel(n_jobs=1)]: Done 4476 out of 4476 | elapsed:    0.9s finished\n"
          ]
        },
        {
          "output_type": "stream",
          "name": "stdout",
          "text": [
            "2.532 --> "
          ]
        },
        {
          "output_type": "stream",
          "name": "stderr",
          "text": [
            "[Parallel(n_jobs=1)]: Using backend SequentialBackend with 1 concurrent workers.\n",
            "[Parallel(n_jobs=1)]: Done 4476 out of 4476 | elapsed:    0.7s finished\n"
          ]
        },
        {
          "output_type": "stream",
          "name": "stdout",
          "text": [
            "2.509 --> "
          ]
        },
        {
          "output_type": "stream",
          "name": "stderr",
          "text": [
            "[Parallel(n_jobs=1)]: Using backend SequentialBackend with 1 concurrent workers.\n",
            "[Parallel(n_jobs=1)]: Done 4476 out of 4476 | elapsed:    0.8s finished\n"
          ]
        },
        {
          "output_type": "stream",
          "name": "stdout",
          "text": [
            "2.443 --> "
          ]
        },
        {
          "output_type": "stream",
          "name": "stderr",
          "text": [
            "[Parallel(n_jobs=1)]: Using backend SequentialBackend with 1 concurrent workers.\n",
            "[Parallel(n_jobs=1)]: Done 4476 out of 4476 | elapsed:    0.7s finished\n"
          ]
        },
        {
          "output_type": "stream",
          "name": "stdout",
          "text": [
            "2.394 --> "
          ]
        },
        {
          "output_type": "stream",
          "name": "stderr",
          "text": [
            "[Parallel(n_jobs=1)]: Using backend SequentialBackend with 1 concurrent workers.\n",
            "[Parallel(n_jobs=1)]: Done 4476 out of 4476 | elapsed:    0.8s finished\n"
          ]
        },
        {
          "output_type": "stream",
          "name": "stdout",
          "text": [
            "2.392 --> "
          ]
        },
        {
          "output_type": "stream",
          "name": "stderr",
          "text": [
            "[Parallel(n_jobs=1)]: Using backend SequentialBackend with 1 concurrent workers.\n",
            "[Parallel(n_jobs=1)]: Done 4476 out of 4476 | elapsed:    0.8s finished\n"
          ]
        },
        {
          "output_type": "stream",
          "name": "stdout",
          "text": [
            "2.392 --> "
          ]
        },
        {
          "output_type": "stream",
          "name": "stderr",
          "text": [
            "[Parallel(n_jobs=1)]: Using backend SequentialBackend with 1 concurrent workers.\n",
            "[Parallel(n_jobs=1)]: Done 4476 out of 4476 | elapsed:    0.8s finished\n"
          ]
        },
        {
          "output_type": "stream",
          "name": "stdout",
          "text": [
            "2.392 --> "
          ]
        },
        {
          "output_type": "stream",
          "name": "stderr",
          "text": [
            "[Parallel(n_jobs=1)]: Using backend SequentialBackend with 1 concurrent workers.\n",
            "[Parallel(n_jobs=1)]: Done 4476 out of 4476 | elapsed:    0.8s finished\n"
          ]
        },
        {
          "output_type": "stream",
          "name": "stdout",
          "text": [
            "2.392 --> \n"
          ]
        },
        {
          "output_type": "stream",
          "name": "stderr",
          "text": [
            "[Parallel(n_jobs=1)]: Using backend SequentialBackend with 1 concurrent workers.\n",
            "[Parallel(n_jobs=1)]: Done 4476 out of 4476 | elapsed:    0.8s finished\n",
            "[Parallel(n_jobs=1)]: Using backend SequentialBackend with 1 concurrent workers.\n",
            "[Parallel(n_jobs=1)]: Done 746 out of 746 | elapsed:    0.1s finished\n",
            "[Parallel(n_jobs=1)]: Using backend SequentialBackend with 1 concurrent workers.\n",
            "[Parallel(n_jobs=1)]: Done 2238 out of 2238 | elapsed:    0.4s finished\n",
            "[Parallel(n_jobs=1)]: Using backend SequentialBackend with 1 concurrent workers.\n",
            "[Parallel(n_jobs=1)]: Done 2238 out of 2238 | elapsed:    0.4s finished\n",
            "[Parallel(n_jobs=1)]: Using backend SequentialBackend with 1 concurrent workers.\n",
            "[Parallel(n_jobs=1)]: Done 2238 out of 2238 | elapsed:    0.4s finished\n",
            "[Parallel(n_jobs=1)]: Using backend SequentialBackend with 1 concurrent workers.\n",
            "[Parallel(n_jobs=1)]: Done 2238 out of 2238 | elapsed:    0.4s finished\n",
            "[Parallel(n_jobs=1)]: Using backend SequentialBackend with 1 concurrent workers.\n",
            "[Parallel(n_jobs=1)]: Done 2238 out of 2238 | elapsed:    0.4s finished\n",
            "[Parallel(n_jobs=1)]: Using backend SequentialBackend with 1 concurrent workers.\n",
            "[Parallel(n_jobs=1)]: Done 2238 out of 2238 | elapsed:    0.4s finished\n",
            "[Parallel(n_jobs=1)]: Using backend SequentialBackend with 1 concurrent workers.\n",
            "[Parallel(n_jobs=1)]: Done 5222 out of 5222 | elapsed:    0.8s finished\n"
          ]
        },
        {
          "output_type": "stream",
          "name": "stdout",
          "text": [
            "3.658 --> "
          ]
        },
        {
          "output_type": "stream",
          "name": "stderr",
          "text": [
            "[Parallel(n_jobs=1)]: Using backend SequentialBackend with 1 concurrent workers.\n",
            "[Parallel(n_jobs=1)]: Done 5222 out of 5222 | elapsed:    0.9s finished\n"
          ]
        },
        {
          "output_type": "stream",
          "name": "stdout",
          "text": [
            "2.133 --> "
          ]
        },
        {
          "output_type": "stream",
          "name": "stderr",
          "text": [
            "[Parallel(n_jobs=1)]: Using backend SequentialBackend with 1 concurrent workers.\n",
            "[Parallel(n_jobs=1)]: Done 5222 out of 5222 | elapsed:    1.1s finished\n"
          ]
        },
        {
          "output_type": "stream",
          "name": "stdout",
          "text": [
            "2.046 --> "
          ]
        },
        {
          "output_type": "stream",
          "name": "stderr",
          "text": [
            "[Parallel(n_jobs=1)]: Using backend SequentialBackend with 1 concurrent workers.\n",
            "[Parallel(n_jobs=1)]: Done 5222 out of 5222 | elapsed:    0.9s finished\n"
          ]
        },
        {
          "output_type": "stream",
          "name": "stdout",
          "text": [
            "2.039 --> "
          ]
        },
        {
          "output_type": "stream",
          "name": "stderr",
          "text": [
            "[Parallel(n_jobs=1)]: Using backend SequentialBackend with 1 concurrent workers.\n",
            "[Parallel(n_jobs=1)]: Done 5222 out of 5222 | elapsed:    0.9s finished\n"
          ]
        },
        {
          "output_type": "stream",
          "name": "stdout",
          "text": [
            "2.039 --> "
          ]
        },
        {
          "output_type": "stream",
          "name": "stderr",
          "text": [
            "[Parallel(n_jobs=1)]: Using backend SequentialBackend with 1 concurrent workers.\n",
            "[Parallel(n_jobs=1)]: Done 5222 out of 5222 | elapsed:    0.9s finished\n"
          ]
        },
        {
          "output_type": "stream",
          "name": "stdout",
          "text": [
            "2.038 --> "
          ]
        },
        {
          "output_type": "stream",
          "name": "stderr",
          "text": [
            "[Parallel(n_jobs=1)]: Using backend SequentialBackend with 1 concurrent workers.\n",
            "[Parallel(n_jobs=1)]: Done 5222 out of 5222 | elapsed:    0.9s finished\n"
          ]
        },
        {
          "output_type": "stream",
          "name": "stdout",
          "text": [
            "2.038 --> "
          ]
        },
        {
          "output_type": "stream",
          "name": "stderr",
          "text": [
            "[Parallel(n_jobs=1)]: Using backend SequentialBackend with 1 concurrent workers.\n",
            "[Parallel(n_jobs=1)]: Done 5222 out of 5222 | elapsed:    0.9s finished\n"
          ]
        },
        {
          "output_type": "stream",
          "name": "stdout",
          "text": [
            "2.038 --> \n"
          ]
        },
        {
          "output_type": "stream",
          "name": "stderr",
          "text": [
            "[Parallel(n_jobs=1)]: Using backend SequentialBackend with 1 concurrent workers.\n",
            "[Parallel(n_jobs=1)]: Done 5222 out of 5222 | elapsed:    0.9s finished\n",
            "[Parallel(n_jobs=1)]: Using backend SequentialBackend with 1 concurrent workers.\n",
            "[Parallel(n_jobs=1)]: Done 746 out of 746 | elapsed:    0.1s finished\n",
            "[Parallel(n_jobs=1)]: Using backend SequentialBackend with 1 concurrent workers.\n",
            "[Parallel(n_jobs=1)]: Done 2984 out of 2984 | elapsed:    0.5s finished\n",
            "[Parallel(n_jobs=1)]: Using backend SequentialBackend with 1 concurrent workers.\n",
            "[Parallel(n_jobs=1)]: Done 2984 out of 2984 | elapsed:    0.5s finished\n",
            "[Parallel(n_jobs=1)]: Using backend SequentialBackend with 1 concurrent workers.\n",
            "[Parallel(n_jobs=1)]: Done 2984 out of 2984 | elapsed:    0.5s finished\n",
            "[Parallel(n_jobs=1)]: Using backend SequentialBackend with 1 concurrent workers.\n",
            "[Parallel(n_jobs=1)]: Done 2984 out of 2984 | elapsed:    0.5s finished\n",
            "[Parallel(n_jobs=1)]: Using backend SequentialBackend with 1 concurrent workers.\n",
            "[Parallel(n_jobs=1)]: Done 2984 out of 2984 | elapsed:    0.5s finished\n",
            "[Parallel(n_jobs=1)]: Using backend SequentialBackend with 1 concurrent workers.\n",
            "[Parallel(n_jobs=1)]: Done 2984 out of 2984 | elapsed:    0.5s finished\n",
            "[Parallel(n_jobs=1)]: Using backend SequentialBackend with 1 concurrent workers.\n",
            "[Parallel(n_jobs=1)]: Done 2984 out of 2984 | elapsed:    0.5s finished\n",
            "[Parallel(n_jobs=1)]: Using backend SequentialBackend with 1 concurrent workers.\n",
            "[Parallel(n_jobs=1)]: Done 5968 out of 5968 | elapsed:    1.0s finished\n"
          ]
        },
        {
          "output_type": "stream",
          "name": "stdout",
          "text": [
            "2.992 --> "
          ]
        },
        {
          "output_type": "stream",
          "name": "stderr",
          "text": [
            "[Parallel(n_jobs=1)]: Using backend SequentialBackend with 1 concurrent workers.\n",
            "[Parallel(n_jobs=1)]: Done 5968 out of 5968 | elapsed:    1.0s finished\n"
          ]
        },
        {
          "output_type": "stream",
          "name": "stdout",
          "text": [
            "2.099 --> "
          ]
        },
        {
          "output_type": "stream",
          "name": "stderr",
          "text": [
            "[Parallel(n_jobs=1)]: Using backend SequentialBackend with 1 concurrent workers.\n",
            "[Parallel(n_jobs=1)]: Done 5968 out of 5968 | elapsed:    1.2s finished\n"
          ]
        },
        {
          "output_type": "stream",
          "name": "stdout",
          "text": [
            "2.086 --> "
          ]
        },
        {
          "output_type": "stream",
          "name": "stderr",
          "text": [
            "[Parallel(n_jobs=1)]: Using backend SequentialBackend with 1 concurrent workers.\n",
            "[Parallel(n_jobs=1)]: Done 5968 out of 5968 | elapsed:    1.0s finished\n"
          ]
        },
        {
          "output_type": "stream",
          "name": "stdout",
          "text": [
            "2.082 --> "
          ]
        },
        {
          "output_type": "stream",
          "name": "stderr",
          "text": [
            "[Parallel(n_jobs=1)]: Using backend SequentialBackend with 1 concurrent workers.\n",
            "[Parallel(n_jobs=1)]: Done 5968 out of 5968 | elapsed:    1.0s finished\n"
          ]
        },
        {
          "output_type": "stream",
          "name": "stdout",
          "text": [
            "2.082 --> "
          ]
        },
        {
          "output_type": "stream",
          "name": "stderr",
          "text": [
            "[Parallel(n_jobs=1)]: Using backend SequentialBackend with 1 concurrent workers.\n",
            "[Parallel(n_jobs=1)]: Done 5968 out of 5968 | elapsed:    1.0s finished\n"
          ]
        },
        {
          "output_type": "stream",
          "name": "stdout",
          "text": [
            "2.082 --> \n"
          ]
        },
        {
          "output_type": "stream",
          "name": "stderr",
          "text": [
            "[Parallel(n_jobs=1)]: Using backend SequentialBackend with 1 concurrent workers.\n",
            "[Parallel(n_jobs=1)]: Done 5968 out of 5968 | elapsed:    1.0s finished\n",
            "[Parallel(n_jobs=1)]: Using backend SequentialBackend with 1 concurrent workers.\n",
            "[Parallel(n_jobs=1)]: Done 746 out of 746 | elapsed:    0.1s finished\n",
            "[Parallel(n_jobs=1)]: Using backend SequentialBackend with 1 concurrent workers.\n",
            "[Parallel(n_jobs=1)]: Done 2984 out of 2984 | elapsed:    0.5s finished\n",
            "[Parallel(n_jobs=1)]: Using backend SequentialBackend with 1 concurrent workers.\n",
            "[Parallel(n_jobs=1)]: Done 2984 out of 2984 | elapsed:    0.5s finished\n",
            "[Parallel(n_jobs=1)]: Using backend SequentialBackend with 1 concurrent workers.\n",
            "[Parallel(n_jobs=1)]: Done 2984 out of 2984 | elapsed:    0.5s finished\n",
            "[Parallel(n_jobs=1)]: Using backend SequentialBackend with 1 concurrent workers.\n",
            "[Parallel(n_jobs=1)]: Done 2984 out of 2984 | elapsed:    0.5s finished\n",
            "[Parallel(n_jobs=1)]: Using backend SequentialBackend with 1 concurrent workers.\n",
            "[Parallel(n_jobs=1)]: Done 2984 out of 2984 | elapsed:    0.5s finished\n",
            "[Parallel(n_jobs=1)]: Using backend SequentialBackend with 1 concurrent workers.\n",
            "[Parallel(n_jobs=1)]: Done 2984 out of 2984 | elapsed:    0.5s finished\n",
            "[Parallel(n_jobs=1)]: Using backend SequentialBackend with 1 concurrent workers.\n",
            "[Parallel(n_jobs=1)]: Done 2984 out of 2984 | elapsed:    0.5s finished\n",
            "[Parallel(n_jobs=1)]: Using backend SequentialBackend with 1 concurrent workers.\n",
            "[Parallel(n_jobs=1)]: Done 2984 out of 2984 | elapsed:    0.5s finished\n",
            "[Parallel(n_jobs=1)]: Using backend SequentialBackend with 1 concurrent workers.\n",
            "[Parallel(n_jobs=1)]: Done 6714 out of 6714 | elapsed:    1.3s finished\n"
          ]
        },
        {
          "output_type": "stream",
          "name": "stdout",
          "text": [
            "2.553 --> "
          ]
        },
        {
          "output_type": "stream",
          "name": "stderr",
          "text": [
            "[Parallel(n_jobs=1)]: Using backend SequentialBackend with 1 concurrent workers.\n",
            "[Parallel(n_jobs=1)]: Done 6714 out of 6714 | elapsed:    1.1s finished\n"
          ]
        },
        {
          "output_type": "stream",
          "name": "stdout",
          "text": [
            "1.720 --> "
          ]
        },
        {
          "output_type": "stream",
          "name": "stderr",
          "text": [
            "[Parallel(n_jobs=1)]: Using backend SequentialBackend with 1 concurrent workers.\n",
            "[Parallel(n_jobs=1)]: Done 6714 out of 6714 | elapsed:    1.1s finished\n"
          ]
        },
        {
          "output_type": "stream",
          "name": "stdout",
          "text": [
            "1.698 --> "
          ]
        },
        {
          "output_type": "stream",
          "name": "stderr",
          "text": [
            "[Parallel(n_jobs=1)]: Using backend SequentialBackend with 1 concurrent workers.\n",
            "[Parallel(n_jobs=1)]: Done 6714 out of 6714 | elapsed:    1.1s finished\n"
          ]
        },
        {
          "output_type": "stream",
          "name": "stdout",
          "text": [
            "1.688 --> "
          ]
        },
        {
          "output_type": "stream",
          "name": "stderr",
          "text": [
            "[Parallel(n_jobs=1)]: Using backend SequentialBackend with 1 concurrent workers.\n",
            "[Parallel(n_jobs=1)]: Done 6714 out of 6714 | elapsed:    1.3s finished\n"
          ]
        },
        {
          "output_type": "stream",
          "name": "stdout",
          "text": [
            "1.683 --> "
          ]
        },
        {
          "output_type": "stream",
          "name": "stderr",
          "text": [
            "[Parallel(n_jobs=1)]: Using backend SequentialBackend with 1 concurrent workers.\n",
            "[Parallel(n_jobs=1)]: Done 6714 out of 6714 | elapsed:    1.1s finished\n"
          ]
        },
        {
          "output_type": "stream",
          "name": "stdout",
          "text": [
            "1.683 --> "
          ]
        },
        {
          "output_type": "stream",
          "name": "stderr",
          "text": [
            "[Parallel(n_jobs=1)]: Using backend SequentialBackend with 1 concurrent workers.\n",
            "[Parallel(n_jobs=1)]: Done 6714 out of 6714 | elapsed:    1.1s finished\n"
          ]
        },
        {
          "output_type": "stream",
          "name": "stdout",
          "text": [
            "1.683 --> \n"
          ]
        },
        {
          "output_type": "stream",
          "name": "stderr",
          "text": [
            "[Parallel(n_jobs=1)]: Using backend SequentialBackend with 1 concurrent workers.\n",
            "[Parallel(n_jobs=1)]: Done 6714 out of 6714 | elapsed:    1.1s finished\n"
          ]
        },
        {
          "output_type": "display_data",
          "data": {
            "text/plain": [
              "<Figure size 1152x576 with 1 Axes>"
            ],
            "image/png": "[encoded data removed]"
          },
          "metadata": {
            "needs_background": "light"
          }
        }
      ]
    },
    {
      "cell_type": "code",
      "source": [
        "print(\"DBA k-means\")\n",
        "dba_km = TimeSeriesKMeans(n_clusters=3,\n",
        "                          n_init=2,\n",
        "                          metric=\"dtw\",\n",
        "                          verbose=True,\n",
        "                          max_iter_barycenter=10,\n",
        "                          random_state=0)\n",
        "y_pred = dba_km.fit_predict(data_normalized)\n",
        "\n",
        "plt.figure(figsize= (20,10))\n",
        "for yi in range(3):\n",
        "    plt.subplot(3, 3, 4 + yi)\n",
        "    for xx in data_normalized[y_pred == yi]:\n",
        "        plt.plot(xx.ravel(), \"k-\", alpha=.2)\n",
        "    plt.plot(dba_km.cluster_centers_[yi].ravel(), \"r-\")\n",
        "    plt.xlim(0, sz)\n",
        "    plt.ylim(-4, 8)\n",
        "    plt.text(0.55, 0.85,'Cluster %d' % (yi + 1),\n",
        "             transform=plt.gca().transAxes)\n",
        "    if yi == 1:\n",
        "        plt.title(\"DBA $k$-means\")"
      ],
      "metadata": {
        "colab": {
          "base_uri": "https://localhost:8080/",
          "height": 1000
        },
        "id": "5K193KTTtixv",
        "outputId": "6a24a36d-fc92-4cd1-cc87-af2fdd307f16"
      },
      "execution_count": 31,
      "outputs": [
        {
          "output_type": "stream",
          "name": "stdout",
          "text": [
            "DBA k-means\n",
            "Init 1\n"
          ]
        },
        {
          "output_type": "stream",
          "name": "stderr",
          "text": [
            "[Parallel(n_jobs=1)]: Using backend SequentialBackend with 1 concurrent workers.\n",
            "[Parallel(n_jobs=1)]: Done 746 out of 746 | elapsed:    0.4s finished\n",
            "[Parallel(n_jobs=1)]: Using backend SequentialBackend with 1 concurrent workers.\n",
            "[Parallel(n_jobs=1)]: Done 2238 out of 2238 | elapsed:    0.5s finished\n",
            "[Parallel(n_jobs=1)]: Using backend SequentialBackend with 1 concurrent workers.\n",
            "[Parallel(n_jobs=1)]: Done 2238 out of 2238 | elapsed:    0.4s finished\n",
            "[Parallel(n_jobs=1)]: Using backend SequentialBackend with 1 concurrent workers.\n",
            "[Parallel(n_jobs=1)]: Done 2238 out of 2238 | elapsed:    0.4s finished\n"
          ]
        },
        {
          "output_type": "stream",
          "name": "stdout",
          "text": [
            "8.123 --> "
          ]
        },
        {
          "output_type": "stream",
          "name": "stderr",
          "text": [
            "[Parallel(n_jobs=1)]: Using backend SequentialBackend with 1 concurrent workers.\n",
            "[Parallel(n_jobs=1)]: Done 2238 out of 2238 | elapsed:    0.4s finished\n"
          ]
        },
        {
          "output_type": "stream",
          "name": "stdout",
          "text": [
            "4.696 --> "
          ]
        },
        {
          "output_type": "stream",
          "name": "stderr",
          "text": [
            "[Parallel(n_jobs=1)]: Using backend SequentialBackend with 1 concurrent workers.\n",
            "[Parallel(n_jobs=1)]: Done 2238 out of 2238 | elapsed:    0.4s finished\n"
          ]
        },
        {
          "output_type": "stream",
          "name": "stdout",
          "text": [
            "4.645 --> "
          ]
        },
        {
          "output_type": "stream",
          "name": "stderr",
          "text": [
            "[Parallel(n_jobs=1)]: Using backend SequentialBackend with 1 concurrent workers.\n",
            "[Parallel(n_jobs=1)]: Done 2238 out of 2238 | elapsed:    0.4s finished\n"
          ]
        },
        {
          "output_type": "stream",
          "name": "stdout",
          "text": [
            "4.637 --> "
          ]
        },
        {
          "output_type": "stream",
          "name": "stderr",
          "text": [
            "[Parallel(n_jobs=1)]: Using backend SequentialBackend with 1 concurrent workers.\n",
            "[Parallel(n_jobs=1)]: Done 2238 out of 2238 | elapsed:    0.4s finished\n"
          ]
        },
        {
          "output_type": "stream",
          "name": "stdout",
          "text": [
            "4.635 --> "
          ]
        },
        {
          "output_type": "stream",
          "name": "stderr",
          "text": [
            "[Parallel(n_jobs=1)]: Using backend SequentialBackend with 1 concurrent workers.\n",
            "[Parallel(n_jobs=1)]: Done 2238 out of 2238 | elapsed:    0.4s finished\n"
          ]
        },
        {
          "output_type": "stream",
          "name": "stdout",
          "text": [
            "4.635 --> "
          ]
        },
        {
          "output_type": "stream",
          "name": "stderr",
          "text": [
            "[Parallel(n_jobs=1)]: Using backend SequentialBackend with 1 concurrent workers.\n",
            "[Parallel(n_jobs=1)]: Done 2238 out of 2238 | elapsed:    0.4s finished\n"
          ]
        },
        {
          "output_type": "stream",
          "name": "stdout",
          "text": [
            "4.635 --> "
          ]
        },
        {
          "output_type": "stream",
          "name": "stderr",
          "text": [
            "[Parallel(n_jobs=1)]: Using backend SequentialBackend with 1 concurrent workers.\n",
            "[Parallel(n_jobs=1)]: Done 2238 out of 2238 | elapsed:    0.4s finished\n"
          ]
        },
        {
          "output_type": "stream",
          "name": "stdout",
          "text": [
            "4.635 --> \n",
            "Init 2\n"
          ]
        },
        {
          "output_type": "stream",
          "name": "stderr",
          "text": [
            "[Parallel(n_jobs=1)]: Using backend SequentialBackend with 1 concurrent workers.\n",
            "[Parallel(n_jobs=1)]: Done 746 out of 746 | elapsed:    0.1s finished\n",
            "[Parallel(n_jobs=1)]: Using backend SequentialBackend with 1 concurrent workers.\n",
            "[Parallel(n_jobs=1)]: Done 2238 out of 2238 | elapsed:    0.4s finished\n",
            "[Parallel(n_jobs=1)]: Using backend SequentialBackend with 1 concurrent workers.\n",
            "[Parallel(n_jobs=1)]: Done 2238 out of 2238 | elapsed:    0.4s finished\n",
            "[Parallel(n_jobs=1)]: Using backend SequentialBackend with 1 concurrent workers.\n",
            "[Parallel(n_jobs=1)]: Done 2238 out of 2238 | elapsed:    0.4s finished\n"
          ]
        },
        {
          "output_type": "stream",
          "name": "stdout",
          "text": [
            "6.861 --> "
          ]
        },
        {
          "output_type": "stream",
          "name": "stderr",
          "text": [
            "[Parallel(n_jobs=1)]: Using backend SequentialBackend with 1 concurrent workers.\n",
            "[Parallel(n_jobs=1)]: Done 2238 out of 2238 | elapsed:    0.4s finished\n"
          ]
        },
        {
          "output_type": "stream",
          "name": "stdout",
          "text": [
            "4.529 --> "
          ]
        },
        {
          "output_type": "stream",
          "name": "stderr",
          "text": [
            "[Parallel(n_jobs=1)]: Using backend SequentialBackend with 1 concurrent workers.\n",
            "[Parallel(n_jobs=1)]: Done 2238 out of 2238 | elapsed:    0.4s finished\n"
          ]
        },
        {
          "output_type": "stream",
          "name": "stdout",
          "text": [
            "4.520 --> "
          ]
        },
        {
          "output_type": "stream",
          "name": "stderr",
          "text": [
            "[Parallel(n_jobs=1)]: Using backend SequentialBackend with 1 concurrent workers.\n",
            "[Parallel(n_jobs=1)]: Done 2238 out of 2238 | elapsed:    0.6s finished\n"
          ]
        },
        {
          "output_type": "stream",
          "name": "stdout",
          "text": [
            "4.500 --> "
          ]
        },
        {
          "output_type": "stream",
          "name": "stderr",
          "text": [
            "[Parallel(n_jobs=1)]: Using backend SequentialBackend with 1 concurrent workers.\n",
            "[Parallel(n_jobs=1)]: Done 2238 out of 2238 | elapsed:    0.4s finished\n"
          ]
        },
        {
          "output_type": "stream",
          "name": "stdout",
          "text": [
            "4.426 --> "
          ]
        },
        {
          "output_type": "stream",
          "name": "stderr",
          "text": [
            "[Parallel(n_jobs=1)]: Using backend SequentialBackend with 1 concurrent workers.\n",
            "[Parallel(n_jobs=1)]: Done 2238 out of 2238 | elapsed:    0.4s finished\n"
          ]
        },
        {
          "output_type": "stream",
          "name": "stdout",
          "text": [
            "4.368 --> "
          ]
        },
        {
          "output_type": "stream",
          "name": "stderr",
          "text": [
            "[Parallel(n_jobs=1)]: Using backend SequentialBackend with 1 concurrent workers.\n",
            "[Parallel(n_jobs=1)]: Done 2238 out of 2238 | elapsed:    0.4s finished\n"
          ]
        },
        {
          "output_type": "stream",
          "name": "stdout",
          "text": [
            "4.363 --> "
          ]
        },
        {
          "output_type": "stream",
          "name": "stderr",
          "text": [
            "[Parallel(n_jobs=1)]: Using backend SequentialBackend with 1 concurrent workers.\n",
            "[Parallel(n_jobs=1)]: Done 2238 out of 2238 | elapsed:    0.4s finished\n"
          ]
        },
        {
          "output_type": "stream",
          "name": "stdout",
          "text": [
            "4.360 --> "
          ]
        },
        {
          "output_type": "stream",
          "name": "stderr",
          "text": [
            "[Parallel(n_jobs=1)]: Using backend SequentialBackend with 1 concurrent workers.\n",
            "[Parallel(n_jobs=1)]: Done 2238 out of 2238 | elapsed:    0.4s finished\n"
          ]
        },
        {
          "output_type": "stream",
          "name": "stdout",
          "text": [
            "4.359 --> "
          ]
        },
        {
          "output_type": "stream",
          "name": "stderr",
          "text": [
            "[Parallel(n_jobs=1)]: Using backend SequentialBackend with 1 concurrent workers.\n",
            "[Parallel(n_jobs=1)]: Done 2238 out of 2238 | elapsed:    0.4s finished\n"
          ]
        },
        {
          "output_type": "stream",
          "name": "stdout",
          "text": [
            "4.359 --> \n"
          ]
        },
        {
          "output_type": "stream",
          "name": "stderr",
          "text": [
            "[Parallel(n_jobs=1)]: Using backend SequentialBackend with 1 concurrent workers.\n",
            "[Parallel(n_jobs=1)]: Done 2238 out of 2238 | elapsed:    0.8s finished\n"
          ]
        },
        {
          "output_type": "display_data",
          "data": {
            "text/plain": [
              "<Figure size 1440x720 with 3 Axes>"
            ],
            "image/png": "[encoded data removed]"
          },
          "metadata": {
            "needs_background": "light"
          }
        }
      ]
    },
    {
      "cell_type": "code",
      "source": [
        "EKM_inertias = []\n",
        "K = range(1,10)\n",
        "for k in K:\n",
        "  kmeanModel = TimeSeriesKMeans(n_clusters=k, metric=\"softdtw\", metric_params={\"gamma\": .01}, verbose=True, random_state=0)\n",
        "  y_pre = kmeanModel.fit_predict(data_normalized)\n",
        "  EKM_inertias.append(kmeanModel.inertia_)\n",
        "plt.figure(figsize = (16,8))\n",
        "plt.plot(K, EKM_inertias,'bx-')\n",
        "plt.xlabel('k')\n",
        "plt.ylabel('inertias')\n",
        "plt.title('Soft-DTW')\n",
        "plt.show()"
      ],
      "metadata": {
        "colab": {
          "base_uri": "https://localhost:8080/",
          "height": 689
        },
        "id": "GdrrxEGNvcZc",
        "outputId": "ae6fc40c-0b8d-4323-8641-34bcb066e4f4"
      },
      "execution_count": 33,
      "outputs": [
        {
          "output_type": "stream",
          "name": "stdout",
          "text": [
            "684.179 --> 157.384 --> 157.336 --> 157.355 --> 157.341 --> 157.349 --> 157.346 --> 157.356 --> 157.357 --> 157.373 --> 157.376 --> 157.393 --> 157.394 --> 157.400 --> 157.378 --> 157.379 --> 157.298 --> 157.283 --> 157.099 --> 155.687 --> 155.537 --> 155.569 --> 155.540 --> 155.550 --> 155.546 --> 155.548 --> 155.547 --> 155.548 --> 155.548 --> 155.548 --> 155.548 --> 155.548 --> 155.548 --> 155.548 --> 155.548 --> 155.548 --> 155.548 --> 155.548 --> 155.548 --> 155.548 --> 155.548 --> 155.548 --> 155.548 --> 155.548 --> 155.548 --> 155.548 --> 155.548 --> 155.548 --> 155.548 --> 155.548 --> \n",
            "148.408 --> 59.798 --> 57.007 --> 55.958 --> 55.908 --> 55.853 --> 55.850 --> 55.848 --> 55.845 --> 55.846 --> 55.842 --> 55.845 --> 55.828 --> 55.774 --> 55.746 --> 55.729 --> 55.724 --> 55.719 --> 55.714 --> 55.711 --> 55.709 --> 55.709 --> 55.709 --> 55.709 --> 55.709 --> 55.709 --> 55.709 --> 55.709 --> 55.709 --> 55.709 --> 55.709 --> 55.709 --> 55.709 --> 55.709 --> \n",
            "83.666 --> 29.898 --> 29.286 --> 27.958 --> 26.820 --> 26.666 --> 26.630 --> 26.575 --> 26.582 --> 26.563 --> 26.571 --> 26.571 --> 26.570 --> 26.560 --> 26.560 --> 26.565 --> 26.558 --> 26.364 --> 26.322 --> 26.320 --> 26.318 --> 26.322 --> 26.318 --> 26.317 --> 26.317 --> 26.317 --> 26.317 --> 26.318 --> 26.318 --> 26.318 --> 26.318 --> 26.318 --> 26.318 --> 26.318 --> 26.318 --> 26.318 --> 26.318 --> 26.318 --> 26.318 --> \n",
            "45.769 --> 16.004 --> 14.509 --> 13.990 --> 13.844 --> 13.763 --> 13.723 --> 13.708 --> 13.707 --> 13.693 --> 13.686 --> 13.666 --> 13.663 --> 13.661 --> 13.662 --> 13.661 --> 13.662 --> 13.661 --> 13.661 --> 13.661 --> 13.661 --> 13.660 --> 13.660 --> 13.659 --> 13.659 --> 13.659 --> 13.658 --> 13.656 --> 13.651 --> 13.650 --> 13.649 --> 13.649 --> 13.649 --> 13.649 --> 13.649 --> 13.650 --> 13.649 --> 13.650 --> 13.650 --> 13.650 --> 13.650 --> 13.650 --> 13.650 --> 13.650 --> 13.650 --> 13.650 --> 13.650 --> 13.650 --> 13.650 --> 13.638 --> \n",
            "34.948 --> 9.851 --> 9.353 --> 9.252 --> 9.216 --> 9.217 --> 9.216 --> 9.216 --> 9.216 --> 9.216 --> 9.216 --> 9.216 --> 9.216 --> 9.216 --> 9.216 --> 9.216 --> \n",
            "23.839 --> 7.032 --> 6.948 --> 6.875 --> 6.838 --> 6.835 --> 6.833 --> 6.834 --> 6.833 --> 6.833 --> 6.833 --> 6.833 --> 6.833 --> 6.833 --> 6.833 --> \n",
            "16.650 --> 5.095 --> 5.050 --> 5.044 --> 5.045 --> 5.040 --> 5.039 --> 5.039 --> 5.039 --> 5.039 --> 5.039 --> 5.039 --> 5.039 --> 5.039 --> 5.039 --> 5.039 --> 5.039 --> 5.039 --> 5.039 --> 5.039 --> \n",
            "11.106 --> 4.307 --> 4.129 --> 4.072 --> 4.070 --> 4.069 --> 4.069 --> 4.069 --> 4.069 --> 4.069 --> 4.069 --> 4.069 --> 4.069 --> \n",
            "8.263 --> 3.055 --> 2.961 --> 2.904 --> 2.897 --> 2.897 --> 2.897 --> 2.897 --> 2.897 --> 2.897 --> 2.897 --> 2.897 --> 2.897 --> 2.897 --> \n"
          ]
        },
        {
          "output_type": "display_data",
          "data": {
            "text/plain": [
              "<Figure size 1152x576 with 1 Axes>"
            ],
            "image/png": "[encoded data removed]"
          },
          "metadata": {
            "needs_background": "light"
          }
        }
      ]
    },
    {
      "cell_type": "code",
      "source": [
        "print(\"Soft-DTW k-means\")\n",
        "sdtw_km = TimeSeriesKMeans(n_clusters=3,\n",
        "                           metric=\"softdtw\",\n",
        "                           metric_params={\"gamma\": .01},\n",
        "                           verbose=True,\n",
        "                           random_state=0)\n",
        "y_pred = sdtw_km.fit_predict(data_normalized)\n",
        "plt.figure(figsize= (20,10))\n",
        "for yi in range(3):\n",
        "    plt.subplot(3, 3, 7 + yi)\n",
        "    for xx in data_normalized[y_pred == yi]:\n",
        "        plt.plot(xx.ravel(), \"k-\", alpha=.2)\n",
        "    plt.plot(sdtw_km.cluster_centers_[yi].ravel(), \"r-\")\n",
        "    plt.xlim(0, sz)\n",
        "    plt.ylim(-4, 7)\n",
        "    plt.text(0.55, 0.85,'Cluster %d' % (yi + 1),\n",
        "             transform=plt.gca().transAxes)\n",
        "    if yi == 1:\n",
        "        plt.title(\"Soft-DTW $k$-means\")\n",
        "\n",
        "plt.tight_layout()\n",
        "plt.show()"
      ],
      "metadata": {
        "colab": {
          "base_uri": "https://localhost:8080/",
          "height": 262
        },
        "id": "0H49vdyYXakh",
        "outputId": "632863b7-e41e-4ab6-a65e-1add315d51d2"
      },
      "execution_count": 37,
      "outputs": [
        {
          "output_type": "stream",
          "name": "stdout",
          "text": [
            "Soft-DTW k-means\n",
            "83.666 --> 29.898 --> 29.286 --> 27.958 --> 26.820 --> 26.666 --> 26.630 --> 26.575 --> 26.582 --> 26.563 --> 26.571 --> 26.571 --> 26.570 --> 26.560 --> 26.560 --> 26.565 --> 26.558 --> 26.364 --> 26.322 --> 26.320 --> 26.318 --> 26.322 --> 26.318 --> 26.317 --> 26.317 --> 26.317 --> 26.317 --> 26.318 --> 26.318 --> 26.318 --> 26.318 --> 26.318 --> 26.318 --> 26.318 --> 26.318 --> 26.318 --> 26.318 --> 26.318 --> 26.318 --> \n"
          ]
        },
        {
          "output_type": "display_data",
          "data": {
            "text/plain": [
              "<Figure size 1440x720 with 3 Axes>"
            ],
            "image/png": "[encoded data removed]"
          },
          "metadata": {
            "needs_background": "light"
          }
        }
      ]
    }
  ]
}